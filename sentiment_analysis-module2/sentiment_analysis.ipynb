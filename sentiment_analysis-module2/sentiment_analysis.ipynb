{
  "nbformat": 4,
  "nbformat_minor": 0,
  "metadata": {
    "colab": {
      "name": "Untitled0.ipynb",
      "provenance": [],
      "collapsed_sections": [],
      "toc_visible": true
    },
    "kernelspec": {
      "name": "python3",
      "display_name": "Python 3"
    }
  },
  "cells": [
    {
      "cell_type": "code",
      "metadata": {
        "id": "xV6fh9UqGqiO",
        "colab_type": "code",
        "colab": {
          "base_uri": "https://localhost:8080/",
          "height": 34
        },
        "outputId": "61de6111-1c94-4bdf-ba98-66259bc07647"
      },
      "source": [
        "print('hello yogesh ...')"
      ],
      "execution_count": null,
      "outputs": [
        {
          "output_type": "stream",
          "text": [
            "hello yogesh ...\n"
          ],
          "name": "stdout"
        }
      ]
    },
    {
      "cell_type": "code",
      "metadata": {
        "id": "OyTXE2hfHI4I",
        "colab_type": "code",
        "colab": {
          "base_uri": "https://localhost:8080/",
          "height": 649
        },
        "outputId": "9026ac28-8875-4967-da0a-9cf703404eef"
      },
      "source": [
        "from __future__ import absolute_import,division,print_function,unicode_literals\n",
        "!pip install tensorflow==2.0.0-beta1\n",
        "import tensorflow as tf  "
      ],
      "execution_count": null,
      "outputs": [
        {
          "output_type": "stream",
          "text": [
            "Collecting tensorflow==2.0.0-beta1\n",
            "\u001b[?25l  Downloading https://files.pythonhosted.org/packages/29/6c/2c9a5c4d095c63c2fb37d20def0e4f92685f7aee9243d6aae25862694fd1/tensorflow-2.0.0b1-cp36-cp36m-manylinux1_x86_64.whl (87.9MB)\n",
            "\u001b[K     |████████████████████████████████| 87.9MB 64kB/s \n",
            "\u001b[?25hRequirement already satisfied: numpy<2.0,>=1.14.5 in /usr/local/lib/python3.6/dist-packages (from tensorflow==2.0.0-beta1) (1.18.2)\n",
            "Collecting tf-estimator-nightly<1.14.0.dev2019060502,>=1.14.0.dev2019060501\n",
            "\u001b[?25l  Downloading https://files.pythonhosted.org/packages/32/dd/99c47dd007dcf10d63fd895611b063732646f23059c618a373e85019eb0e/tf_estimator_nightly-1.14.0.dev2019060501-py2.py3-none-any.whl (496kB)\n",
            "\u001b[K     |████████████████████████████████| 501kB 46.3MB/s \n",
            "\u001b[?25hRequirement already satisfied: gast>=0.2.0 in /usr/local/lib/python3.6/dist-packages (from tensorflow==2.0.0-beta1) (0.3.3)\n",
            "Requirement already satisfied: grpcio>=1.8.6 in /usr/local/lib/python3.6/dist-packages (from tensorflow==2.0.0-beta1) (1.27.2)\n",
            "Requirement already satisfied: google-pasta>=0.1.6 in /usr/local/lib/python3.6/dist-packages (from tensorflow==2.0.0-beta1) (0.2.0)\n",
            "Requirement already satisfied: six>=1.10.0 in /usr/local/lib/python3.6/dist-packages (from tensorflow==2.0.0-beta1) (1.12.0)\n",
            "Requirement already satisfied: wrapt>=1.11.1 in /usr/local/lib/python3.6/dist-packages (from tensorflow==2.0.0-beta1) (1.12.1)\n",
            "Collecting tb-nightly<1.14.0a20190604,>=1.14.0a20190603\n",
            "\u001b[?25l  Downloading https://files.pythonhosted.org/packages/a4/96/571b875cd81dda9d5dfa1422a4f9d749e67c0a8d4f4f0b33a4e5f5f35e27/tb_nightly-1.14.0a20190603-py3-none-any.whl (3.1MB)\n",
            "\u001b[K     |████████████████████████████████| 3.1MB 35.1MB/s \n",
            "\u001b[?25hRequirement already satisfied: keras-applications>=1.0.6 in /usr/local/lib/python3.6/dist-packages (from tensorflow==2.0.0-beta1) (1.0.8)\n",
            "Requirement already satisfied: astor>=0.6.0 in /usr/local/lib/python3.6/dist-packages (from tensorflow==2.0.0-beta1) (0.8.1)\n",
            "Requirement already satisfied: termcolor>=1.1.0 in /usr/local/lib/python3.6/dist-packages (from tensorflow==2.0.0-beta1) (1.1.0)\n",
            "Requirement already satisfied: wheel>=0.26 in /usr/local/lib/python3.6/dist-packages (from tensorflow==2.0.0-beta1) (0.34.2)\n",
            "Requirement already satisfied: keras-preprocessing>=1.0.5 in /usr/local/lib/python3.6/dist-packages (from tensorflow==2.0.0-beta1) (1.1.0)\n",
            "Requirement already satisfied: protobuf>=3.6.1 in /usr/local/lib/python3.6/dist-packages (from tensorflow==2.0.0-beta1) (3.10.0)\n",
            "Requirement already satisfied: absl-py>=0.7.0 in /usr/local/lib/python3.6/dist-packages (from tensorflow==2.0.0-beta1) (0.9.0)\n",
            "Requirement already satisfied: setuptools>=41.0.0 in /usr/local/lib/python3.6/dist-packages (from tb-nightly<1.14.0a20190604,>=1.14.0a20190603->tensorflow==2.0.0-beta1) (46.1.3)\n",
            "Requirement already satisfied: werkzeug>=0.11.15 in /usr/local/lib/python3.6/dist-packages (from tb-nightly<1.14.0a20190604,>=1.14.0a20190603->tensorflow==2.0.0-beta1) (1.0.1)\n",
            "Requirement already satisfied: markdown>=2.6.8 in /usr/local/lib/python3.6/dist-packages (from tb-nightly<1.14.0a20190604,>=1.14.0a20190603->tensorflow==2.0.0-beta1) (3.2.1)\n",
            "Requirement already satisfied: h5py in /usr/local/lib/python3.6/dist-packages (from keras-applications>=1.0.6->tensorflow==2.0.0-beta1) (2.10.0)\n",
            "Installing collected packages: tf-estimator-nightly, tb-nightly, tensorflow\n",
            "  Found existing installation: tensorflow 2.2.0rc2\n",
            "    Uninstalling tensorflow-2.2.0rc2:\n",
            "      Successfully uninstalled tensorflow-2.2.0rc2\n",
            "Successfully installed tb-nightly-1.14.0a20190603 tensorflow-2.0.0b1 tf-estimator-nightly-1.14.0.dev2019060501\n"
          ],
          "name": "stdout"
        },
        {
          "output_type": "display_data",
          "data": {
            "application/vnd.colab-display-data+json": {
              "pip_warning": {
                "packages": [
                  "tensorboard",
                  "tensorflow"
                ]
              }
            }
          },
          "metadata": {
            "tags": []
          }
        }
      ]
    },
    {
      "cell_type": "code",
      "metadata": {
        "id": "GcZHzNUpuXj5",
        "colab_type": "code",
        "colab": {
          "base_uri": "https://localhost:8080/",
          "height": 700
        },
        "outputId": "9e0e4a81-fb64-4da4-a6cc-c5531b063351"
      },
      "source": [
        "pip install --ignore-installed --upgrade keras"
      ],
      "execution_count": null,
      "outputs": [
        {
          "output_type": "stream",
          "text": [
            "Collecting keras\n",
            "\u001b[?25l  Downloading https://files.pythonhosted.org/packages/ad/fd/6bfe87920d7f4fd475acd28500a42482b6b84479832bdc0fe9e589a60ceb/Keras-2.3.1-py2.py3-none-any.whl (377kB)\n",
            "\u001b[K     |████████████████████████████████| 378kB 2.8MB/s \n",
            "\u001b[?25hCollecting six>=1.9.0\n",
            "  Downloading https://files.pythonhosted.org/packages/65/eb/1f97cb97bfc2390a276969c6fae16075da282f5058082d4cb10c6c5c1dba/six-1.14.0-py2.py3-none-any.whl\n",
            "Collecting pyyaml\n",
            "\u001b[?25l  Downloading https://files.pythonhosted.org/packages/64/c2/b80047c7ac2478f9501676c988a5411ed5572f35d1beff9cae07d321512c/PyYAML-5.3.1.tar.gz (269kB)\n",
            "\u001b[K     |████████████████████████████████| 276kB 11.6MB/s \n",
            "\u001b[?25hCollecting scipy>=0.14\n",
            "\u001b[?25l  Downloading https://files.pythonhosted.org/packages/dc/29/162476fd44203116e7980cfbd9352eef9db37c49445d1fec35509022f6aa/scipy-1.4.1-cp36-cp36m-manylinux1_x86_64.whl (26.1MB)\n",
            "\u001b[K     |████████████████████████████████| 26.1MB 1.5MB/s \n",
            "\u001b[?25hCollecting keras-applications>=1.0.6\n",
            "\u001b[?25l  Downloading https://files.pythonhosted.org/packages/71/e3/19762fdfc62877ae9102edf6342d71b28fbfd9dea3d2f96a882ce099b03f/Keras_Applications-1.0.8-py3-none-any.whl (50kB)\n",
            "\u001b[K     |████████████████████████████████| 51kB 7.2MB/s \n",
            "\u001b[?25hCollecting keras-preprocessing>=1.0.5\n",
            "\u001b[?25l  Downloading https://files.pythonhosted.org/packages/28/6a/8c1f62c37212d9fc441a7e26736df51ce6f0e38455816445471f10da4f0a/Keras_Preprocessing-1.1.0-py2.py3-none-any.whl (41kB)\n",
            "\u001b[K     |████████████████████████████████| 51kB 8.0MB/s \n",
            "\u001b[?25hCollecting numpy>=1.9.1\n",
            "\u001b[?25l  Downloading https://files.pythonhosted.org/packages/07/08/a549ba8b061005bb629b76adc000f3caaaf881028b963c2e18f811c6edc1/numpy-1.18.2-cp36-cp36m-manylinux1_x86_64.whl (20.2MB)\n",
            "\u001b[K     |████████████████████████████████| 20.2MB 122kB/s \n",
            "\u001b[?25hCollecting h5py\n",
            "\u001b[?25l  Downloading https://files.pythonhosted.org/packages/60/06/cafdd44889200e5438b897388f3075b52a8ef01f28a17366d91de0fa2d05/h5py-2.10.0-cp36-cp36m-manylinux1_x86_64.whl (2.9MB)\n",
            "\u001b[K     |████████████████████████████████| 2.9MB 45.4MB/s \n",
            "\u001b[?25hBuilding wheels for collected packages: pyyaml\n",
            "  Building wheel for pyyaml (setup.py) ... \u001b[?25l\u001b[?25hdone\n",
            "  Created wheel for pyyaml: filename=PyYAML-5.3.1-cp36-cp36m-linux_x86_64.whl size=44621 sha256=0c73d3453ffc59571159701ebb4d8153b9ce2f5bfc19459c1025840aee970a93\n",
            "  Stored in directory: /root/.cache/pip/wheels/a7/c1/ea/cf5bd31012e735dc1dfea3131a2d5eae7978b251083d6247bd\n",
            "Successfully built pyyaml\n",
            "\u001b[31mERROR: qtconsole 4.7.2 has requirement pyzmq>=17.1, but you'll have pyzmq 17.0.0 which is incompatible.\u001b[0m\n",
            "\u001b[31mERROR: google-colab 1.0.0 has requirement six~=1.12.0, but you'll have six 1.14.0 which is incompatible.\u001b[0m\n",
            "\u001b[31mERROR: datascience 0.10.6 has requirement folium==0.2.1, but you'll have folium 0.8.3 which is incompatible.\u001b[0m\n",
            "\u001b[31mERROR: albumentations 0.1.12 has requirement imgaug<0.2.7,>=0.2.5, but you'll have imgaug 0.2.9 which is incompatible.\u001b[0m\n",
            "Installing collected packages: six, pyyaml, numpy, scipy, h5py, keras-applications, keras-preprocessing, keras\n",
            "Successfully installed h5py-2.10.0 keras-2.3.1 keras-applications-1.0.8 keras-preprocessing-1.1.0 numpy-1.18.2 pyyaml-5.3.1 scipy-1.4.1 six-1.14.0\n"
          ],
          "name": "stdout"
        },
        {
          "output_type": "display_data",
          "data": {
            "application/vnd.colab-display-data+json": {
              "pip_warning": {
                "packages": [
                  "h5py",
                  "keras",
                  "keras_applications",
                  "keras_preprocessing",
                  "numpy",
                  "scipy",
                  "six",
                  "yaml"
                ]
              }
            }
          },
          "metadata": {
            "tags": []
          }
        }
      ]
    },
    {
      "cell_type": "code",
      "metadata": {
        "id": "I97jb1dG6FXV",
        "colab_type": "code",
        "colab": {
          "base_uri": "https://localhost:8080/",
          "height": 235
        },
        "outputId": "7af94b27-3667-4340-c7e2-2e5200f522a6"
      },
      "source": [
        "import os\n",
        "import sys\n",
        "import pandas as pd\n",
        "\n",
        "csv = 'reviews1.csv'\n",
        "data = pd.read_csv(csv,index_col='serial no.', encoding='latin-1')\n",
        "data.head()"
      ],
      "execution_count": null,
      "outputs": [
        {
          "output_type": "execute_result",
          "data": {
            "text/html": [
              "<div>\n",
              "<style scoped>\n",
              "    .dataframe tbody tr th:only-of-type {\n",
              "        vertical-align: middle;\n",
              "    }\n",
              "\n",
              "    .dataframe tbody tr th {\n",
              "        vertical-align: top;\n",
              "    }\n",
              "\n",
              "    .dataframe thead th {\n",
              "        text-align: right;\n",
              "    }\n",
              "</style>\n",
              "<table border=\"1\" class=\"dataframe\">\n",
              "  <thead>\n",
              "    <tr style=\"text-align: right;\">\n",
              "      <th></th>\n",
              "      <th>Reviews</th>\n",
              "      <th>Polarity</th>\n",
              "    </tr>\n",
              "    <tr>\n",
              "      <th>serial no.</th>\n",
              "      <th></th>\n",
              "      <th></th>\n",
              "    </tr>\n",
              "  </thead>\n",
              "  <tbody>\n",
              "    <tr>\n",
              "      <th>1</th>\n",
              "      <td>love book I love nash velvet great problem I h...</td>\n",
              "      <td>1</td>\n",
              "    </tr>\n",
              "    <tr>\n",
              "      <th>2</th>\n",
              "      <td>As alway holli fantast job fact book cowritten...</td>\n",
              "      <td>1</td>\n",
              "    </tr>\n",
              "    <tr>\n",
              "      <th>3</th>\n",
              "      <td>star thi favorit kind romant suspens although ...</td>\n",
              "      <td>1</td>\n",
              "    </tr>\n",
              "    <tr>\n",
              "      <th>4</th>\n",
              "      <td>I given advanc reserv copi give honest reviewt...</td>\n",
              "      <td>1</td>\n",
              "    </tr>\n",
              "    <tr>\n",
              "      <th>5</th>\n",
              "      <td>I pick book suggest friend said far worst book...</td>\n",
              "      <td>0</td>\n",
              "    </tr>\n",
              "  </tbody>\n",
              "</table>\n",
              "</div>"
            ],
            "text/plain": [
              "                                                      Reviews  Polarity\n",
              "serial no.                                                             \n",
              "1           love book I love nash velvet great problem I h...         1\n",
              "2           As alway holli fantast job fact book cowritten...         1\n",
              "3           star thi favorit kind romant suspens although ...         1\n",
              "4           I given advanc reserv copi give honest reviewt...         1\n",
              "5           I pick book suggest friend said far worst book...         0"
            ]
          },
          "metadata": {
            "tags": []
          },
          "execution_count": 97
        }
      ]
    },
    {
      "cell_type": "code",
      "metadata": {
        "id": "RP0LK5TaTpbX",
        "colab_type": "code",
        "colab": {}
      },
      "source": [
        "from sklearn.model_selection import train_test_split\n",
        "SEED=2000\n",
        "x_train, x_validation, y_train, y_validation = train_test_split(data.Reviews, data.Polarity, test_size=.20, random_state=SEED)"
      ],
      "execution_count": null,
      "outputs": []
    },
    {
      "cell_type": "code",
      "metadata": {
        "id": "OHKhbu-rgUMU",
        "colab_type": "code",
        "colab": {
          "base_uri": "https://localhost:8080/",
          "height": 1000
        },
        "outputId": "6a231491-c59e-4c8e-e6ff-5f397b14bb4b"
      },
      "source": [
        "from keras.preprocessing.text import Tokenizer\n",
        "from keras.preprocessing.sequence import pad_sequences\n",
        "\n",
        "tokenizer = Tokenizer(num_words=100000)\n",
        "tokenizer.fit_on_texts(x_train)\n",
        "sequences = tokenizer.texts_to_sequences(x_train)\n",
        "\n",
        "for x in x_train[:4]:\n",
        "    print(x)    \n",
        "sequences[:4]"
      ],
      "execution_count": null,
      "outputs": [
        {
          "output_type": "stream",
          "text": [
            "I recent purchas book child reward good behaviour He never sworn around around parent restrict internet useag educ site I preapprov inform onlin encyclopedia complet chore without argument wash car help littl sister get readi bath even supris u cook delici cake read book becom unmanag it like book turn kind innner demon insid refus told refus help wash littl sister suprisingli swear 9000 time day though probabl slight exagger Me mother know We burnt book tast wiccan ceremoni still grip himif anyon know return formerself without swear disobedi Id happi hear We open potenti spell spell help bring back favourit dog brocolli dont want caus harmb care book It look innoc look decept\n",
            "wow great stori follow woman happi grief babylov love book great collabor\n",
            "I absolut hate book worst book I ever read the protagonist flat likeabl substanc I writer could written better stori I shock patterson book think last I kept read hope would get better NO get better the end stupid whole stori line nanni affair marri bos ah I wish I listen review DO not wast time book not psycholog thriller stretch imagin aw stori I stubborn alway tri trudg book hope get better rest assur book If find say wtf first chapter put noth interest thrill happen end oh groaner I dont understand book get even one decent review bad bad bad\n",
            "thi one definit huge success well It true statement 34get tissu ready34 I criedlaughedsmil felt anger read book emot roller coaster did awesom job stori gen dan fantast charact beauti love stori tragic begin I total read one\n"
          ],
          "name": "stdout"
        },
        {
          "output_type": "execute_result",
          "data": {
            "text/plain": [
              "[[1,\n",
              "  813,\n",
              "  1067,\n",
              "  2,\n",
              "  166,\n",
              "  1068,\n",
              "  53,\n",
              "  1611,\n",
              "  48,\n",
              "  44,\n",
              "  1069,\n",
              "  140,\n",
              "  140,\n",
              "  390,\n",
              "  1612,\n",
              "  1613,\n",
              "  1614,\n",
              "  1615,\n",
              "  1616,\n",
              "  1,\n",
              "  1617,\n",
              "  814,\n",
              "  1618,\n",
              "  1619,\n",
              "  141,\n",
              "  1070,\n",
              "  280,\n",
              "  1071,\n",
              "  1072,\n",
              "  1073,\n",
              "  69,\n",
              "  126,\n",
              "  391,\n",
              "  11,\n",
              "  358,\n",
              "  1620,\n",
              "  33,\n",
              "  1621,\n",
              "  127,\n",
              "  815,\n",
              "  1074,\n",
              "  1622,\n",
              "  4,\n",
              "  2,\n",
              "  262,\n",
              "  1623,\n",
              "  10,\n",
              "  7,\n",
              "  2,\n",
              "  121,\n",
              "  227,\n",
              "  1624,\n",
              "  609,\n",
              "  694,\n",
              "  610,\n",
              "  527,\n",
              "  610,\n",
              "  69,\n",
              "  1072,\n",
              "  126,\n",
              "  391,\n",
              "  1625,\n",
              "  816,\n",
              "  1626,\n",
              "  22,\n",
              "  131,\n",
              "  228,\n",
              "  392,\n",
              "  1627,\n",
              "  1628,\n",
              "  1629,\n",
              "  142,\n",
              "  25,\n",
              "  476,\n",
              "  1630,\n",
              "  2,\n",
              "  1075,\n",
              "  1631,\n",
              "  1632,\n",
              "  115,\n",
              "  817,\n",
              "  1633,\n",
              "  263,\n",
              "  25,\n",
              "  1634,\n",
              "  1635,\n",
              "  280,\n",
              "  816,\n",
              "  1636,\n",
              "  528,\n",
              "  111,\n",
              "  529,\n",
              "  476,\n",
              "  359,\n",
              "  818,\n",
              "  477,\n",
              "  477,\n",
              "  69,\n",
              "  304,\n",
              "  104,\n",
              "  611,\n",
              "  1637,\n",
              "  1638,\n",
              "  65,\n",
              "  12,\n",
              "  695,\n",
              "  1639,\n",
              "  143,\n",
              "  2,\n",
              "  10,\n",
              "  60,\n",
              "  819,\n",
              "  60,\n",
              "  1640],\n",
              " [360, 23, 5, 305, 96, 111, 478, 1641, 3, 2, 23, 281],\n",
              " [1,\n",
              "  150,\n",
              "  229,\n",
              "  2,\n",
              "  264,\n",
              "  2,\n",
              "  1,\n",
              "  112,\n",
              "  4,\n",
              "  8,\n",
              "  820,\n",
              "  1642,\n",
              "  1643,\n",
              "  1644,\n",
              "  1,\n",
              "  206,\n",
              "  20,\n",
              "  76,\n",
              "  247,\n",
              "  5,\n",
              "  1,\n",
              "  530,\n",
              "  327,\n",
              "  2,\n",
              "  37,\n",
              "  180,\n",
              "  1,\n",
              "  306,\n",
              "  4,\n",
              "  14,\n",
              "  16,\n",
              "  11,\n",
              "  247,\n",
              "  282,\n",
              "  11,\n",
              "  247,\n",
              "  8,\n",
              "  62,\n",
              "  612,\n",
              "  265,\n",
              "  5,\n",
              "  192,\n",
              "  821,\n",
              "  613,\n",
              "  428,\n",
              "  1076,\n",
              "  1645,\n",
              "  1,\n",
              "  361,\n",
              "  1,\n",
              "  614,\n",
              "  61,\n",
              "  429,\n",
              "  151,\n",
              "  615,\n",
              "  22,\n",
              "  2,\n",
              "  151,\n",
              "  1646,\n",
              "  696,\n",
              "  1647,\n",
              "  328,\n",
              "  822,\n",
              "  5,\n",
              "  1,\n",
              "  697,\n",
              "  90,\n",
              "  91,\n",
              "  1648,\n",
              "  2,\n",
              "  14,\n",
              "  11,\n",
              "  247,\n",
              "  616,\n",
              "  1077,\n",
              "  2,\n",
              "  132,\n",
              "  30,\n",
              "  29,\n",
              "  823,\n",
              "  31,\n",
              "  167,\n",
              "  40,\n",
              "  248,\n",
              "  230,\n",
              "  430,\n",
              "  54,\n",
              "  62,\n",
              "  362,\n",
              "  1649,\n",
              "  1,\n",
              "  65,\n",
              "  307,\n",
              "  2,\n",
              "  11,\n",
              "  33,\n",
              "  6,\n",
              "  1078,\n",
              "  61,\n",
              "  207,\n",
              "  207,\n",
              "  207],\n",
              " [9,\n",
              "  6,\n",
              "  108,\n",
              "  393,\n",
              "  698,\n",
              "  45,\n",
              "  10,\n",
              "  152,\n",
              "  1650,\n",
              "  1651,\n",
              "  144,\n",
              "  1652,\n",
              "  1,\n",
              "  1653,\n",
              "  87,\n",
              "  824,\n",
              "  4,\n",
              "  2,\n",
              "  35,\n",
              "  329,\n",
              "  363,\n",
              "  1079,\n",
              "  231,\n",
              "  113,\n",
              "  5,\n",
              "  36,\n",
              "  157,\n",
              "  308,\n",
              "  15,\n",
              "  168,\n",
              "  3,\n",
              "  5,\n",
              "  1654,\n",
              "  79,\n",
              "  1,\n",
              "  217,\n",
              "  4,\n",
              "  6]]"
            ]
          },
          "metadata": {
            "tags": []
          },
          "execution_count": 99
        }
      ]
    },
    {
      "cell_type": "code",
      "metadata": {
        "id": "8YktlFfIgw4Q",
        "colab_type": "code",
        "colab": {
          "base_uri": "https://localhost:8080/",
          "height": 34
        },
        "outputId": "190ce0ad-c974-445c-b282-ec8a3b7770b0"
      },
      "source": [
        "length = []\n",
        "for x in x_train:\n",
        "    length.append(len(x.split()))\n",
        "max(length)"
      ],
      "execution_count": null,
      "outputs": [
        {
          "output_type": "execute_result",
          "data": {
            "text/plain": [
              "524"
            ]
          },
          "metadata": {
            "tags": []
          },
          "execution_count": 100
        }
      ]
    },
    {
      "cell_type": "code",
      "metadata": {
        "id": "3_tS25_QUrP6",
        "colab_type": "code",
        "colab": {
          "base_uri": "https://localhost:8080/",
          "height": 34
        },
        "outputId": "13419cb2-f187-43c7-f494-dd25d86c4591"
      },
      "source": [
        "len(sequences)"
      ],
      "execution_count": null,
      "outputs": [
        {
          "output_type": "execute_result",
          "data": {
            "text/plain": [
              "245"
            ]
          },
          "metadata": {
            "tags": []
          },
          "execution_count": 101
        }
      ]
    },
    {
      "cell_type": "code",
      "metadata": {
        "colab_type": "code",
        "id": "oqrgcJZ2iMfT",
        "colab": {
          "base_uri": "https://localhost:8080/",
          "height": 357
        },
        "outputId": "539d1f8b-c0aa-4fab-da77-bda463c25e7d"
      },
      "source": [
        "import os\n",
        "import sys\n",
        "import pandas as pd\n",
        "\n",
        "csv = 'reviewstagged.csv'\n",
        "data = pd.read_csv(csv,index_col='serial no.', encoding='latin-1')\n",
        "data.head()"
      ],
      "execution_count": null,
      "outputs": [
        {
          "output_type": "error",
          "ename": "FileNotFoundError",
          "evalue": "ignored",
          "traceback": [
            "\u001b[0;31m---------------------------------------------------------------------------\u001b[0m",
            "\u001b[0;31mFileNotFoundError\u001b[0m                         Traceback (most recent call last)",
            "\u001b[0;32m<ipython-input-16-b6d4ac9e9c7b>\u001b[0m in \u001b[0;36m<module>\u001b[0;34m()\u001b[0m\n\u001b[1;32m      4\u001b[0m \u001b[0;34m\u001b[0m\u001b[0m\n\u001b[1;32m      5\u001b[0m \u001b[0mcsv\u001b[0m \u001b[0;34m=\u001b[0m \u001b[0;34m'reviewstagged.csv'\u001b[0m\u001b[0;34m\u001b[0m\u001b[0;34m\u001b[0m\u001b[0m\n\u001b[0;32m----> 6\u001b[0;31m \u001b[0mdata\u001b[0m \u001b[0;34m=\u001b[0m \u001b[0mpd\u001b[0m\u001b[0;34m.\u001b[0m\u001b[0mread_csv\u001b[0m\u001b[0;34m(\u001b[0m\u001b[0mcsv\u001b[0m\u001b[0;34m,\u001b[0m\u001b[0mindex_col\u001b[0m\u001b[0;34m=\u001b[0m\u001b[0;34m'serial no.'\u001b[0m\u001b[0;34m,\u001b[0m \u001b[0mencoding\u001b[0m\u001b[0;34m=\u001b[0m\u001b[0;34m'latin-1'\u001b[0m\u001b[0;34m)\u001b[0m\u001b[0;34m\u001b[0m\u001b[0;34m\u001b[0m\u001b[0m\n\u001b[0m\u001b[1;32m      7\u001b[0m \u001b[0mdata\u001b[0m\u001b[0;34m.\u001b[0m\u001b[0mhead\u001b[0m\u001b[0;34m(\u001b[0m\u001b[0;34m)\u001b[0m\u001b[0;34m\u001b[0m\u001b[0;34m\u001b[0m\u001b[0m\n",
            "\u001b[0;32m/usr/local/lib/python3.6/dist-packages/pandas/io/parsers.py\u001b[0m in \u001b[0;36mparser_f\u001b[0;34m(filepath_or_buffer, sep, delimiter, header, names, index_col, usecols, squeeze, prefix, mangle_dupe_cols, dtype, engine, converters, true_values, false_values, skipinitialspace, skiprows, skipfooter, nrows, na_values, keep_default_na, na_filter, verbose, skip_blank_lines, parse_dates, infer_datetime_format, keep_date_col, date_parser, dayfirst, cache_dates, iterator, chunksize, compression, thousands, decimal, lineterminator, quotechar, quoting, doublequote, escapechar, comment, encoding, dialect, error_bad_lines, warn_bad_lines, delim_whitespace, low_memory, memory_map, float_precision)\u001b[0m\n\u001b[1;32m    674\u001b[0m         )\n\u001b[1;32m    675\u001b[0m \u001b[0;34m\u001b[0m\u001b[0m\n\u001b[0;32m--> 676\u001b[0;31m         \u001b[0;32mreturn\u001b[0m \u001b[0m_read\u001b[0m\u001b[0;34m(\u001b[0m\u001b[0mfilepath_or_buffer\u001b[0m\u001b[0;34m,\u001b[0m \u001b[0mkwds\u001b[0m\u001b[0;34m)\u001b[0m\u001b[0;34m\u001b[0m\u001b[0;34m\u001b[0m\u001b[0m\n\u001b[0m\u001b[1;32m    677\u001b[0m \u001b[0;34m\u001b[0m\u001b[0m\n\u001b[1;32m    678\u001b[0m     \u001b[0mparser_f\u001b[0m\u001b[0;34m.\u001b[0m\u001b[0m__name__\u001b[0m \u001b[0;34m=\u001b[0m \u001b[0mname\u001b[0m\u001b[0;34m\u001b[0m\u001b[0;34m\u001b[0m\u001b[0m\n",
            "\u001b[0;32m/usr/local/lib/python3.6/dist-packages/pandas/io/parsers.py\u001b[0m in \u001b[0;36m_read\u001b[0;34m(filepath_or_buffer, kwds)\u001b[0m\n\u001b[1;32m    446\u001b[0m \u001b[0;34m\u001b[0m\u001b[0m\n\u001b[1;32m    447\u001b[0m     \u001b[0;31m# Create the parser.\u001b[0m\u001b[0;34m\u001b[0m\u001b[0;34m\u001b[0m\u001b[0;34m\u001b[0m\u001b[0m\n\u001b[0;32m--> 448\u001b[0;31m     \u001b[0mparser\u001b[0m \u001b[0;34m=\u001b[0m \u001b[0mTextFileReader\u001b[0m\u001b[0;34m(\u001b[0m\u001b[0mfp_or_buf\u001b[0m\u001b[0;34m,\u001b[0m \u001b[0;34m**\u001b[0m\u001b[0mkwds\u001b[0m\u001b[0;34m)\u001b[0m\u001b[0;34m\u001b[0m\u001b[0;34m\u001b[0m\u001b[0m\n\u001b[0m\u001b[1;32m    449\u001b[0m \u001b[0;34m\u001b[0m\u001b[0m\n\u001b[1;32m    450\u001b[0m     \u001b[0;32mif\u001b[0m \u001b[0mchunksize\u001b[0m \u001b[0;32mor\u001b[0m \u001b[0miterator\u001b[0m\u001b[0;34m:\u001b[0m\u001b[0;34m\u001b[0m\u001b[0;34m\u001b[0m\u001b[0m\n",
            "\u001b[0;32m/usr/local/lib/python3.6/dist-packages/pandas/io/parsers.py\u001b[0m in \u001b[0;36m__init__\u001b[0;34m(self, f, engine, **kwds)\u001b[0m\n\u001b[1;32m    878\u001b[0m             \u001b[0mself\u001b[0m\u001b[0;34m.\u001b[0m\u001b[0moptions\u001b[0m\u001b[0;34m[\u001b[0m\u001b[0;34m\"has_index_names\"\u001b[0m\u001b[0;34m]\u001b[0m \u001b[0;34m=\u001b[0m \u001b[0mkwds\u001b[0m\u001b[0;34m[\u001b[0m\u001b[0;34m\"has_index_names\"\u001b[0m\u001b[0;34m]\u001b[0m\u001b[0;34m\u001b[0m\u001b[0;34m\u001b[0m\u001b[0m\n\u001b[1;32m    879\u001b[0m \u001b[0;34m\u001b[0m\u001b[0m\n\u001b[0;32m--> 880\u001b[0;31m         \u001b[0mself\u001b[0m\u001b[0;34m.\u001b[0m\u001b[0m_make_engine\u001b[0m\u001b[0;34m(\u001b[0m\u001b[0mself\u001b[0m\u001b[0;34m.\u001b[0m\u001b[0mengine\u001b[0m\u001b[0;34m)\u001b[0m\u001b[0;34m\u001b[0m\u001b[0;34m\u001b[0m\u001b[0m\n\u001b[0m\u001b[1;32m    881\u001b[0m \u001b[0;34m\u001b[0m\u001b[0m\n\u001b[1;32m    882\u001b[0m     \u001b[0;32mdef\u001b[0m \u001b[0mclose\u001b[0m\u001b[0;34m(\u001b[0m\u001b[0mself\u001b[0m\u001b[0;34m)\u001b[0m\u001b[0;34m:\u001b[0m\u001b[0;34m\u001b[0m\u001b[0;34m\u001b[0m\u001b[0m\n",
            "\u001b[0;32m/usr/local/lib/python3.6/dist-packages/pandas/io/parsers.py\u001b[0m in \u001b[0;36m_make_engine\u001b[0;34m(self, engine)\u001b[0m\n\u001b[1;32m   1112\u001b[0m     \u001b[0;32mdef\u001b[0m \u001b[0m_make_engine\u001b[0m\u001b[0;34m(\u001b[0m\u001b[0mself\u001b[0m\u001b[0;34m,\u001b[0m \u001b[0mengine\u001b[0m\u001b[0;34m=\u001b[0m\u001b[0;34m\"c\"\u001b[0m\u001b[0;34m)\u001b[0m\u001b[0;34m:\u001b[0m\u001b[0;34m\u001b[0m\u001b[0;34m\u001b[0m\u001b[0m\n\u001b[1;32m   1113\u001b[0m         \u001b[0;32mif\u001b[0m \u001b[0mengine\u001b[0m \u001b[0;34m==\u001b[0m \u001b[0;34m\"c\"\u001b[0m\u001b[0;34m:\u001b[0m\u001b[0;34m\u001b[0m\u001b[0;34m\u001b[0m\u001b[0m\n\u001b[0;32m-> 1114\u001b[0;31m             \u001b[0mself\u001b[0m\u001b[0;34m.\u001b[0m\u001b[0m_engine\u001b[0m \u001b[0;34m=\u001b[0m \u001b[0mCParserWrapper\u001b[0m\u001b[0;34m(\u001b[0m\u001b[0mself\u001b[0m\u001b[0;34m.\u001b[0m\u001b[0mf\u001b[0m\u001b[0;34m,\u001b[0m \u001b[0;34m**\u001b[0m\u001b[0mself\u001b[0m\u001b[0;34m.\u001b[0m\u001b[0moptions\u001b[0m\u001b[0;34m)\u001b[0m\u001b[0;34m\u001b[0m\u001b[0;34m\u001b[0m\u001b[0m\n\u001b[0m\u001b[1;32m   1115\u001b[0m         \u001b[0;32melse\u001b[0m\u001b[0;34m:\u001b[0m\u001b[0;34m\u001b[0m\u001b[0;34m\u001b[0m\u001b[0m\n\u001b[1;32m   1116\u001b[0m             \u001b[0;32mif\u001b[0m \u001b[0mengine\u001b[0m \u001b[0;34m==\u001b[0m \u001b[0;34m\"python\"\u001b[0m\u001b[0;34m:\u001b[0m\u001b[0;34m\u001b[0m\u001b[0;34m\u001b[0m\u001b[0m\n",
            "\u001b[0;32m/usr/local/lib/python3.6/dist-packages/pandas/io/parsers.py\u001b[0m in \u001b[0;36m__init__\u001b[0;34m(self, src, **kwds)\u001b[0m\n\u001b[1;32m   1872\u001b[0m         \u001b[0;32mif\u001b[0m \u001b[0mkwds\u001b[0m\u001b[0;34m.\u001b[0m\u001b[0mget\u001b[0m\u001b[0;34m(\u001b[0m\u001b[0;34m\"compression\"\u001b[0m\u001b[0;34m)\u001b[0m \u001b[0;32mis\u001b[0m \u001b[0;32mNone\u001b[0m \u001b[0;32mand\u001b[0m \u001b[0mencoding\u001b[0m\u001b[0;34m:\u001b[0m\u001b[0;34m\u001b[0m\u001b[0;34m\u001b[0m\u001b[0m\n\u001b[1;32m   1873\u001b[0m             \u001b[0;32mif\u001b[0m \u001b[0misinstance\u001b[0m\u001b[0;34m(\u001b[0m\u001b[0msrc\u001b[0m\u001b[0;34m,\u001b[0m \u001b[0mstr\u001b[0m\u001b[0;34m)\u001b[0m\u001b[0;34m:\u001b[0m\u001b[0;34m\u001b[0m\u001b[0;34m\u001b[0m\u001b[0m\n\u001b[0;32m-> 1874\u001b[0;31m                 \u001b[0msrc\u001b[0m \u001b[0;34m=\u001b[0m \u001b[0mopen\u001b[0m\u001b[0;34m(\u001b[0m\u001b[0msrc\u001b[0m\u001b[0;34m,\u001b[0m \u001b[0;34m\"rb\"\u001b[0m\u001b[0;34m)\u001b[0m\u001b[0;34m\u001b[0m\u001b[0;34m\u001b[0m\u001b[0m\n\u001b[0m\u001b[1;32m   1875\u001b[0m                 \u001b[0mself\u001b[0m\u001b[0;34m.\u001b[0m\u001b[0mhandles\u001b[0m\u001b[0;34m.\u001b[0m\u001b[0mappend\u001b[0m\u001b[0;34m(\u001b[0m\u001b[0msrc\u001b[0m\u001b[0;34m)\u001b[0m\u001b[0;34m\u001b[0m\u001b[0;34m\u001b[0m\u001b[0m\n\u001b[1;32m   1876\u001b[0m \u001b[0;34m\u001b[0m\u001b[0m\n",
            "\u001b[0;31mFileNotFoundError\u001b[0m: [Errno 2] No such file or directory: 'reviewstagged.csv'"
          ]
        }
      ]
    },
    {
      "cell_type": "code",
      "metadata": {
        "id": "cn49fP7zQ1JT",
        "colab_type": "code",
        "colab": {}
      },
      "source": [
        "from sklearn.model_selection import train_test_split\n",
        "SEED=2000\n",
        "x_train, x_validation, y_train, y_validation = train_test_split(data.Reviews, data.Polarity, test_size=.20, random_state=SEED)"
      ],
      "execution_count": null,
      "outputs": []
    },
    {
      "cell_type": "code",
      "metadata": {
        "id": "XSqUy0ZfROdD",
        "colab_type": "code",
        "colab": {
          "base_uri": "https://localhost:8080/",
          "height": 1000
        },
        "outputId": "461a3c4a-dfd3-447e-8830-cbf9bb2147f8"
      },
      "source": [
        "from keras.preprocessing.text import Tokenizer\n",
        "from keras.preprocessing.sequence import pad_sequences\n",
        "\n",
        "tokenizer = Tokenizer(num_words=100000)\n",
        "tokenizer.fit_on_texts(x_train)\n",
        "sequences = tokenizer.texts_to_sequences(x_train)\n",
        "#sequences.append(sequences1)\n",
        "sequences[:4]"
      ],
      "execution_count": null,
      "outputs": [
        {
          "output_type": "stream",
          "text": [
            "Using TensorFlow backend.\n"
          ],
          "name": "stderr"
        },
        {
          "output_type": "display_data",
          "data": {
            "text/html": [
              "<p style=\"color: red;\">\n",
              "The default version of TensorFlow in Colab will soon switch to TensorFlow 2.x.<br>\n",
              "We recommend you <a href=\"https://www.tensorflow.org/guide/migrate\" target=\"_blank\">upgrade</a> now \n",
              "or ensure your notebook will continue to use TensorFlow 1.x via the <code>%tensorflow_version 1.x</code> magic:\n",
              "<a href=\"https://colab.research.google.com/notebooks/tensorflow_version.ipynb\" target=\"_blank\">more info</a>.</p>\n"
            ],
            "text/plain": [
              "<IPython.core.display.HTML object>"
            ]
          },
          "metadata": {
            "tags": []
          }
        },
        {
          "output_type": "execute_result",
          "data": {
            "text/plain": [
              "[[1,\n",
              "  3,\n",
              "  4,\n",
              "  49,\n",
              "  60,\n",
              "  10,\n",
              "  332,\n",
              "  194,\n",
              "  195,\n",
              "  111,\n",
              "  36,\n",
              "  71,\n",
              "  7,\n",
              "  16,\n",
              "  15,\n",
              "  865,\n",
              "  24,\n",
              "  13,\n",
              "  19,\n",
              "  209,\n",
              "  1117,\n",
              "  129,\n",
              "  24,\n",
              "  28,\n",
              "  1,\n",
              "  15,\n",
              "  1118,\n",
              "  4,\n",
              "  210,\n",
              "  294,\n",
              "  333,\n",
              "  1683,\n",
              "  21,\n",
              "  1119,\n",
              "  49,\n",
              "  334,\n",
              "  224,\n",
              "  1684,\n",
              "  484,\n",
              "  6,\n",
              "  713,\n",
              "  294,\n",
              "  537,\n",
              "  255,\n",
              "  623,\n",
              "  360,\n",
              "  10,\n",
              "  1120,\n",
              "  177,\n",
              "  132,\n",
              "  4,\n",
              "  210,\n",
              "  37,\n",
              "  211,\n",
              "  66,\n",
              "  49,\n",
              "  311,\n",
              "  58,\n",
              "  3,\n",
              "  9,\n",
              "  2,\n",
              "  40,\n",
              "  1685,\n",
              "  58,\n",
              "  36,\n",
              "  80,\n",
              "  1121,\n",
              "  49,\n",
              "  50,\n",
              "  115,\n",
              "  21,\n",
              "  80,\n",
              "  3],\n",
              " [43,\n",
              "  23,\n",
              "  22,\n",
              "  9,\n",
              "  312,\n",
              "  335,\n",
              "  23,\n",
              "  624,\n",
              "  5,\n",
              "  10,\n",
              "  485,\n",
              "  1120,\n",
              "  10,\n",
              "  714,\n",
              "  538,\n",
              "  1686,\n",
              "  9,\n",
              "  1122,\n",
              "  97,\n",
              "  271,\n",
              "  539,\n",
              "  1123,\n",
              "  7,\n",
              "  1124,\n",
              "  433,\n",
              "  1687,\n",
              "  5,\n",
              "  1,\n",
              "  196,\n",
              "  45,\n",
              "  1,\n",
              "  86,\n",
              "  56,\n",
              "  120,\n",
              "  1,\n",
              "  5,\n",
              "  133,\n",
              "  63,\n",
              "  336,\n",
              "  46,\n",
              "  1125,\n",
              "  540],\n",
              " [1,\n",
              "  15,\n",
              "  75,\n",
              "  434,\n",
              "  17,\n",
              "  337,\n",
              "  390,\n",
              "  25,\n",
              "  112,\n",
              "  4,\n",
              "  338,\n",
              "  107,\n",
              "  17,\n",
              "  625,\n",
              "  313,\n",
              "  1688,\n",
              "  13,\n",
              "  37,\n",
              "  1689,\n",
              "  866,\n",
              "  37,\n",
              "  8,\n",
              "  76,\n",
              "  34,\n",
              "  20,\n",
              "  1690,\n",
              "  1691,\n",
              "  1692,\n",
              "  13,\n",
              "  256,\n",
              "  18,\n",
              "  8,\n",
              "  1693,\n",
              "  1694,\n",
              "  295,\n",
              "  486,\n",
              "  1695,\n",
              "  626,\n",
              "  1696,\n",
              "  19,\n",
              "  18,\n",
              "  8,\n",
              "  1,\n",
              "  867,\n",
              "  58,\n",
              "  339,\n",
              "  257,\n",
              "  338,\n",
              "  238,\n",
              "  868,\n",
              "  1697,\n",
              "  1698,\n",
              "  21,\n",
              "  224,\n",
              "  29,\n",
              "  1699,\n",
              "  296,\n",
              "  1700,\n",
              "  1701,\n",
              "  209,\n",
              "  116,\n",
              "  869,\n",
              "  212,\n",
              "  1702,\n",
              "  51,\n",
              "  21,\n",
              "  541,\n",
              "  1703,\n",
              "  1704,\n",
              "  225,\n",
              "  1705,\n",
              "  1706,\n",
              "  98,\n",
              "  1707,\n",
              "  1708,\n",
              "  17,\n",
              "  1126,\n",
              "  314],\n",
              " [37,\n",
              "  715,\n",
              "  66,\n",
              "  258,\n",
              "  2,\n",
              "  93,\n",
              "  10,\n",
              "  81,\n",
              "  1127,\n",
              "  361,\n",
              "  97,\n",
              "  45,\n",
              "  870,\n",
              "  1,\n",
              "  178,\n",
              "  3,\n",
              "  60,\n",
              "  67,\n",
              "  116,\n",
              "  1709,\n",
              "  340,\n",
              "  135,\n",
              "  9,\n",
              "  2,\n",
              "  239,\n",
              "  1710,\n",
              "  19,\n",
              "  121,\n",
              "  159,\n",
              "  213,\n",
              "  240,\n",
              "  11,\n",
              "  44,\n",
              "  47,\n",
              "  36,\n",
              "  362,\n",
              "  136,\n",
              "  1711,\n",
              "  143,\n",
              "  93,\n",
              "  97,\n",
              "  1,\n",
              "  17,\n",
              "  11,\n",
              "  38,\n",
              "  87,\n",
              "  98]]"
            ]
          },
          "metadata": {
            "tags": []
          },
          "execution_count": 3
        }
      ]
    },
    {
      "cell_type": "code",
      "metadata": {
        "id": "sL3JLDCzTxGy",
        "colab_type": "code",
        "colab": {
          "base_uri": "https://localhost:8080/",
          "height": 34
        },
        "outputId": "04d8276c-09d6-412d-daae-e8e73a767044"
      },
      "source": [
        "length = []\n",
        "for x in x_train:\n",
        "    length.append(len(x.split()))\n",
        "max(length)"
      ],
      "execution_count": null,
      "outputs": [
        {
          "output_type": "execute_result",
          "data": {
            "text/plain": [
              "524"
            ]
          },
          "metadata": {
            "tags": []
          },
          "execution_count": 4
        }
      ]
    },
    {
      "cell_type": "code",
      "metadata": {
        "id": "3tpRrv_tVN6S",
        "colab_type": "code",
        "colab": {
          "base_uri": "https://localhost:8080/",
          "height": 34
        },
        "outputId": "d42bfae9-ef76-4816-cd0e-01edfb36d8c3"
      },
      "source": [
        "len(sequences)"
      ],
      "execution_count": null,
      "outputs": [
        {
          "output_type": "execute_result",
          "data": {
            "text/plain": [
              "823"
            ]
          },
          "metadata": {
            "tags": []
          },
          "execution_count": 68
        }
      ]
    },
    {
      "cell_type": "code",
      "metadata": {
        "id": "BmD6YdFOhAYf",
        "colab_type": "code",
        "colab": {
          "base_uri": "https://localhost:8080/",
          "height": 102
        },
        "outputId": "3ea2b26e-d627-4e37-82ae-628143acc7f9"
      },
      "source": [
        "x_train_seq = pad_sequences(sequences, maxlen=524)\n",
        "x_train_seq[:5]"
      ],
      "execution_count": null,
      "outputs": [
        {
          "output_type": "execute_result",
          "data": {
            "text/plain": [
              "array([[   0,    0,    0, ...,  819,   60, 1640],\n",
              "       [   0,    0,    0, ...,    2,   23,  281],\n",
              "       [   0,    0,    0, ...,  207,  207,  207],\n",
              "       [   0,    0,    0, ...,  217,    4,    6],\n",
              "       [   0,    0,    0, ...,    3,   50,  283]], dtype=int32)"
            ]
          },
          "metadata": {
            "tags": []
          },
          "execution_count": 102
        }
      ]
    },
    {
      "cell_type": "code",
      "metadata": {
        "id": "_aFv2Gh3hKxT",
        "colab_type": "code",
        "colab": {}
      },
      "source": [
        "sequences_val = tokenizer.texts_to_sequences(x_validation)\n",
        "x_val_seq = pad_sequences(sequences_val, maxlen=524)"
      ],
      "execution_count": null,
      "outputs": []
    },
    {
      "cell_type": "code",
      "metadata": {
        "id": "MujCbBlahXKx",
        "colab_type": "code",
        "colab": {
          "base_uri": "https://localhost:8080/",
          "height": 848
        },
        "outputId": "2b6a9a60-4716-4971-fca8-3a4497824e0d"
      },
      "source": [
        "from keras.models import Sequential\n",
        "from keras.layers import Dense, Conv1D, GlobalMaxPooling1D\n",
        "from keras.layers.embeddings import Embedding\n",
        "\n",
        "model_cnn = Sequential()\n",
        "\n",
        "e = Embedding(100000, 100, input_length=524)\n",
        "model_cnn.add(e)\n",
        "model_cnn.add(Conv1D(filters=100, kernel_size=2, padding='valid', activation='relu', strides=1))\n",
        "model_cnn.add(GlobalMaxPooling1D())\n",
        "model_cnn.add(Dense(256, activation='relu'))\n",
        "model_cnn.add(Dense(1, activation='sigmoid'))\n",
        "model_cnn.compile(loss='binary_crossentropy', optimizer='adam', metrics=['accuracy'])\n",
        "model_cnn.fit(x_train_seq, y_train, validation_data=(x_val_seq, y_validation), epochs=5, batch_size=32, verbose=2)\n",
        "score,acc = model_cnn.evaluate(x_val_seq, y_validation, verbose = 2, batch_size = 32)\n",
        "print(\"score: %.2f\" % (score))\n",
        "print(\"acc: %.4f\" % (acc))\n",
        "plt.plot(history.history['accuracy'])\n",
        "plt.plot(history.history['val_accuracy'])\n",
        "plt.title('model accuracy')\n",
        "plt.ylabel('accuracy')\n",
        "plt.xlabel('epoch')\n",
        "plt.legend(['train', 'test'], loc='upper left')\n",
        "plt.show()\n",
        "\n",
        "plt.plot(history.history['loss'])\n",
        "plt.plot(history.history['val_loss'])\n",
        "\n",
        "plt.title('model loss')\n",
        "plt.ylabel('loss')\n",
        "plt.xlabel('epoch')\n",
        "plt.legend(['train','test'], loc='upper left')\n",
        "plt.show()\n"
      ],
      "execution_count": null,
      "outputs": [
        {
          "output_type": "stream",
          "text": [
            "/usr/local/lib/python3.6/dist-packages/tensorflow/python/framework/indexed_slices.py:434: UserWarning: Converting sparse IndexedSlices to a dense Tensor of unknown shape. This may consume a large amount of memory.\n",
            "  \"Converting sparse IndexedSlices to a dense Tensor of unknown shape. \"\n"
          ],
          "name": "stderr"
        },
        {
          "output_type": "stream",
          "text": [
            "Train on 245 samples, validate on 62 samples\n",
            "Epoch 1/5\n",
            " - 2s - loss: 0.5796 - accuracy: 0.8245 - val_loss: 0.5657 - val_accuracy: 0.7581\n",
            "Epoch 2/5\n",
            " - 1s - loss: 0.4527 - accuracy: 0.8245 - val_loss: 0.5878 - val_accuracy: 0.7581\n",
            "Epoch 3/5\n",
            " - 1s - loss: 0.4236 - accuracy: 0.8245 - val_loss: 0.5876 - val_accuracy: 0.7581\n",
            "Epoch 4/5\n",
            " - 1s - loss: 0.3867 - accuracy: 0.8245 - val_loss: 0.5336 - val_accuracy: 0.7581\n",
            "Epoch 5/5\n",
            " - 1s - loss: 0.3456 - accuracy: 0.8245 - val_loss: 0.5061 - val_accuracy: 0.7581\n",
            "score: 0.51\n",
            "acc: 0.7581\n"
          ],
          "name": "stdout"
        },
        {
          "output_type": "display_data",
          "data": {
            "image/png": "[encoded data removed]",
            "text/plain": [
              "<Figure size 432x288 with 1 Axes>"
            ]
          },
          "metadata": {
            "tags": []
          }
        },
        {
          "output_type": "display_data",
          "data": {
            "image/png": "[encoded data removed]",
            "text/plain": [
              "<Figure size 432x288 with 1 Axes>"
            ]
          },
          "metadata": {
            "tags": []
          }
        }
      ]
    },
    {
      "cell_type": "code",
      "metadata": {
        "id": "0tfTIz_Ph70B",
        "colab_type": "code",
        "colab": {
          "base_uri": "https://localhost:8080/",
          "height": 1000
        },
        "outputId": "1d1e05a7-febb-451a-84af-3e43cbaa9872"
      },
      "source": [
        "#LSTM\n",
        "\n",
        "from keras.layers import SpatialDropout1D, LSTM, Dropout\n",
        "\n",
        "model_lstm = Sequential()\n",
        "\n",
        "model_lstm.add(Embedding(100000, 128))\n",
        "model_lstm.add(SpatialDropout1D(0.4))\n",
        "model_lstm.add(LSTM(128, dropout=0.2, recurrent_dropout=0.2))\n",
        "model_lstm.add(Dense(1,activation='sigmoid'))\n",
        "model_lstm.compile(loss = 'binary_crossentropy', optimizer='adam',metrics = ['accuracy'])\n",
        "print(model_lstm.summary())\n",
        "history=model_lstm.fit(x_train_seq, y_train,validation_split=0.2, epochs = 7, batch_size=32, verbose = 2)\n",
        "score,acc = model_lstm.evaluate(x_val_seq, y_validation, verbose = 2, batch_size = 32)\n",
        "print(\"score: %.2f\" % (score))\n",
        "print(\"acc: %.4f\" % (acc))\n",
        "plt.plot(history.history['accuracy'])\n",
        "plt.plot(history.history['val_accuracy'])\n",
        "plt.title('model accuracy')\n",
        "plt.ylabel('accuracy')\n",
        "plt.xlabel('epoch')\n",
        "plt.legend(['train', 'test'], loc='upper left')\n",
        "plt.show()\n",
        "\n",
        "plt.plot(history.history['loss'])\n",
        "plt.plot(history.history['val_loss'])\n",
        "\n",
        "plt.title('model loss')\n",
        "plt.ylabel('loss')\n",
        "plt.xlabel('epoch')\n",
        "plt.legend(['train','test'], loc='upper left')\n",
        "plt.show()"
      ],
      "execution_count": null,
      "outputs": [
        {
          "output_type": "stream",
          "text": [
            "Model: \"sequential_88\"\n",
            "_________________________________________________________________\n",
            "Layer (type)                 Output Shape              Param #   \n",
            "=================================================================\n",
            "embedding_3 (Embedding)      (None, None, 128)         12800000  \n",
            "_________________________________________________________________\n",
            "spatial_dropout1d_1 (Spatial (None, None, 128)         0         \n",
            "_________________________________________________________________\n",
            "lstm_1 (LSTM)                (None, 128)               131584    \n",
            "_________________________________________________________________\n",
            "dense_345 (Dense)            (None, 1)                 129       \n",
            "=================================================================\n",
            "Total params: 12,931,713\n",
            "Trainable params: 12,931,713\n",
            "Non-trainable params: 0\n",
            "_________________________________________________________________\n",
            "None\n"
          ],
          "name": "stdout"
        },
        {
          "output_type": "stream",
          "text": [
            "/usr/local/lib/python3.6/dist-packages/tensorflow/python/framework/indexed_slices.py:434: UserWarning: Converting sparse IndexedSlices to a dense Tensor of unknown shape. This may consume a large amount of memory.\n",
            "  \"Converting sparse IndexedSlices to a dense Tensor of unknown shape. \"\n"
          ],
          "name": "stderr"
        },
        {
          "output_type": "stream",
          "text": [
            "Train on 196 samples, validate on 49 samples\n",
            "Epoch 1/7\n",
            " - 7s - loss: 0.6718 - accuracy: 0.7653 - val_loss: 0.6137 - val_accuracy: 0.7959\n",
            "Epoch 2/7\n",
            " - 6s - loss: 0.5073 - accuracy: 0.8316 - val_loss: 0.5034 - val_accuracy: 0.7959\n",
            "Epoch 3/7\n",
            " - 6s - loss: 0.4474 - accuracy: 0.8316 - val_loss: 0.4703 - val_accuracy: 0.7959\n",
            "Epoch 4/7\n",
            " - 6s - loss: 0.3707 - accuracy: 0.8316 - val_loss: 0.5191 - val_accuracy: 0.7959\n",
            "Epoch 5/7\n",
            " - 6s - loss: 0.3846 - accuracy: 0.8316 - val_loss: 0.4292 - val_accuracy: 0.7959\n",
            "Epoch 6/7\n",
            " - 6s - loss: 0.2750 - accuracy: 0.8622 - val_loss: 0.3915 - val_accuracy: 0.7959\n",
            "Epoch 7/7\n",
            " - 6s - loss: 0.1988 - accuracy: 0.9235 - val_loss: 0.4143 - val_accuracy: 0.7959\n",
            "score: 0.44\n",
            "acc: 0.7742\n"
          ],
          "name": "stdout"
        },
        {
          "output_type": "display_data",
          "data": {
            "image/png": "[encoded data removed]",
            "text/plain": [
              "<Figure size 432x288 with 1 Axes>"
            ]
          },
          "metadata": {
            "tags": []
          }
        },
        {
          "output_type": "display_data",
          "data": {
            "image/png": "[encoded data removed]",
            "text/plain": [
              "<Figure size 432x288 with 1 Axes>"
            ]
          },
          "metadata": {
            "tags": []
          }
        }
      ]
    },
    {
      "cell_type": "code",
      "metadata": {
        "id": "49305W2NSYq_",
        "colab_type": "code",
        "colab": {
          "base_uri": "https://localhost:8080/",
          "height": 700
        },
        "outputId": "11e73170-cc1d-412a-93c9-a4164359e82c"
      },
      "source": [
        "pip install --ignore-installed --upgrade keras"
      ],
      "execution_count": null,
      "outputs": [
        {
          "output_type": "stream",
          "text": [
            "Collecting keras\n",
            "\u001b[?25l  Downloading https://files.pythonhosted.org/packages/ad/fd/6bfe87920d7f4fd475acd28500a42482b6b84479832bdc0fe9e589a60ceb/Keras-2.3.1-py2.py3-none-any.whl (377kB)\n",
            "\u001b[K     |████████████████████████████████| 378kB 2.8MB/s \n",
            "\u001b[?25hCollecting pyyaml\n",
            "\u001b[?25l  Downloading https://files.pythonhosted.org/packages/64/c2/b80047c7ac2478f9501676c988a5411ed5572f35d1beff9cae07d321512c/PyYAML-5.3.1.tar.gz (269kB)\n",
            "\u001b[K     |████████████████████████████████| 276kB 49.3MB/s \n",
            "\u001b[?25hCollecting scipy>=0.14\n",
            "\u001b[?25l  Downloading https://files.pythonhosted.org/packages/dc/29/162476fd44203116e7980cfbd9352eef9db37c49445d1fec35509022f6aa/scipy-1.4.1-cp36-cp36m-manylinux1_x86_64.whl (26.1MB)\n",
            "\u001b[K     |████████████████████████████████| 26.1MB 1.3MB/s \n",
            "\u001b[?25hCollecting numpy>=1.9.1\n",
            "\u001b[?25l  Downloading https://files.pythonhosted.org/packages/07/08/a549ba8b061005bb629b76adc000f3caaaf881028b963c2e18f811c6edc1/numpy-1.18.2-cp36-cp36m-manylinux1_x86_64.whl (20.2MB)\n",
            "\u001b[K     |████████████████████████████████| 20.2MB 240kB/s \n",
            "\u001b[?25hCollecting h5py\n",
            "\u001b[?25l  Downloading https://files.pythonhosted.org/packages/60/06/cafdd44889200e5438b897388f3075b52a8ef01f28a17366d91de0fa2d05/h5py-2.10.0-cp36-cp36m-manylinux1_x86_64.whl (2.9MB)\n",
            "\u001b[K     |████████████████████████████████| 2.9MB 40.4MB/s \n",
            "\u001b[?25hCollecting six>=1.9.0\n",
            "  Downloading https://files.pythonhosted.org/packages/65/eb/1f97cb97bfc2390a276969c6fae16075da282f5058082d4cb10c6c5c1dba/six-1.14.0-py2.py3-none-any.whl\n",
            "Collecting keras-applications>=1.0.6\n",
            "\u001b[?25l  Downloading https://files.pythonhosted.org/packages/71/e3/19762fdfc62877ae9102edf6342d71b28fbfd9dea3d2f96a882ce099b03f/Keras_Applications-1.0.8-py3-none-any.whl (50kB)\n",
            "\u001b[K     |████████████████████████████████| 51kB 7.2MB/s \n",
            "\u001b[?25hCollecting keras-preprocessing>=1.0.5\n",
            "\u001b[?25l  Downloading https://files.pythonhosted.org/packages/28/6a/8c1f62c37212d9fc441a7e26736df51ce6f0e38455816445471f10da4f0a/Keras_Preprocessing-1.1.0-py2.py3-none-any.whl (41kB)\n",
            "\u001b[K     |████████████████████████████████| 51kB 7.4MB/s \n",
            "\u001b[?25hBuilding wheels for collected packages: pyyaml\n",
            "  Building wheel for pyyaml (setup.py) ... \u001b[?25l\u001b[?25hdone\n",
            "  Created wheel for pyyaml: filename=PyYAML-5.3.1-cp36-cp36m-linux_x86_64.whl size=44621 sha256=80e1eb5bbcc07bfae643760fff974123c8f865dd23986ed99a2b6ce0c823cba7\n",
            "  Stored in directory: /root/.cache/pip/wheels/a7/c1/ea/cf5bd31012e735dc1dfea3131a2d5eae7978b251083d6247bd\n",
            "Successfully built pyyaml\n",
            "\u001b[31mERROR: qtconsole 4.7.2 has requirement pyzmq>=17.1, but you'll have pyzmq 17.0.0 which is incompatible.\u001b[0m\n",
            "\u001b[31mERROR: google-colab 1.0.0 has requirement six~=1.12.0, but you'll have six 1.14.0 which is incompatible.\u001b[0m\n",
            "\u001b[31mERROR: datascience 0.10.6 has requirement folium==0.2.1, but you'll have folium 0.8.3 which is incompatible.\u001b[0m\n",
            "\u001b[31mERROR: albumentations 0.1.12 has requirement imgaug<0.2.7,>=0.2.5, but you'll have imgaug 0.2.9 which is incompatible.\u001b[0m\n",
            "Installing collected packages: pyyaml, numpy, scipy, six, h5py, keras-applications, keras-preprocessing, keras\n",
            "Successfully installed h5py-2.10.0 keras-2.3.1 keras-applications-1.0.8 keras-preprocessing-1.1.0 numpy-1.18.2 pyyaml-5.3.1 scipy-1.4.1 six-1.14.0\n"
          ],
          "name": "stdout"
        },
        {
          "output_type": "display_data",
          "data": {
            "application/vnd.colab-display-data+json": {
              "pip_warning": {
                "packages": [
                  "h5py",
                  "keras",
                  "keras_applications",
                  "keras_preprocessing",
                  "numpy",
                  "scipy",
                  "six",
                  "yaml"
                ]
              }
            }
          },
          "metadata": {
            "tags": []
          }
        }
      ]
    },
    {
      "cell_type": "code",
      "metadata": {
        "id": "8skd8F_u5xG2",
        "colab_type": "code",
        "colab": {
          "base_uri": "https://localhost:8080/",
          "height": 235
        },
        "outputId": "f3337c37-7135-412a-d833-24e22ca41496"
      },
      "source": [
        "import os\n",
        "import sys\n",
        "import gensim\n",
        "import pandas as pd\n",
        "from gensim.models.doc2vec import LabeledSentence\n",
        "csv = 'reviews1.csv'\n",
        "data = pd.read_csv(csv,index_col='serial no.', encoding='latin-1')\n",
        "data.head()"
      ],
      "execution_count": null,
      "outputs": [
        {
          "output_type": "execute_result",
          "data": {
            "text/html": [
              "<div>\n",
              "<style scoped>\n",
              "    .dataframe tbody tr th:only-of-type {\n",
              "        vertical-align: middle;\n",
              "    }\n",
              "\n",
              "    .dataframe tbody tr th {\n",
              "        vertical-align: top;\n",
              "    }\n",
              "\n",
              "    .dataframe thead th {\n",
              "        text-align: right;\n",
              "    }\n",
              "</style>\n",
              "<table border=\"1\" class=\"dataframe\">\n",
              "  <thead>\n",
              "    <tr style=\"text-align: right;\">\n",
              "      <th></th>\n",
              "      <th>Reviews</th>\n",
              "      <th>Polarity</th>\n",
              "    </tr>\n",
              "    <tr>\n",
              "      <th>serial no.</th>\n",
              "      <th></th>\n",
              "      <th></th>\n",
              "    </tr>\n",
              "  </thead>\n",
              "  <tbody>\n",
              "    <tr>\n",
              "      <th>1</th>\n",
              "      <td>love book I love nash velvet great problem I h...</td>\n",
              "      <td>1</td>\n",
              "    </tr>\n",
              "    <tr>\n",
              "      <th>2</th>\n",
              "      <td>As alway holli fantast job fact book cowritten...</td>\n",
              "      <td>1</td>\n",
              "    </tr>\n",
              "    <tr>\n",
              "      <th>3</th>\n",
              "      <td>star thi favorit kind romant suspens although ...</td>\n",
              "      <td>1</td>\n",
              "    </tr>\n",
              "    <tr>\n",
              "      <th>4</th>\n",
              "      <td>I given advanc reserv copi give honest reviewt...</td>\n",
              "      <td>1</td>\n",
              "    </tr>\n",
              "    <tr>\n",
              "      <th>5</th>\n",
              "      <td>I pick book suggest friend said far worst book...</td>\n",
              "      <td>0</td>\n",
              "    </tr>\n",
              "  </tbody>\n",
              "</table>\n",
              "</div>"
            ],
            "text/plain": [
              "                                                      Reviews  Polarity\n",
              "serial no.                                                             \n",
              "1           love book I love nash velvet great problem I h...         1\n",
              "2           As alway holli fantast job fact book cowritten...         1\n",
              "3           star thi favorit kind romant suspens although ...         1\n",
              "4           I given advanc reserv copi give honest reviewt...         1\n",
              "5           I pick book suggest friend said far worst book...         0"
            ]
          },
          "metadata": {
            "tags": []
          },
          "execution_count": 33
        }
      ]
    },
    {
      "cell_type": "code",
      "metadata": {
        "id": "A7s1DCcS6RJI",
        "colab_type": "code",
        "colab": {}
      },
      "source": [
        "from sklearn.model_selection import train_test_split\n",
        "SEED = 2000\n",
        "x_train, x_validation, y_train, y_validation = train_test_split(data.Reviews, data.Polarity, test_size=.2, random_state=SEED)"
      ],
      "execution_count": null,
      "outputs": []
    },
    {
      "cell_type": "code",
      "metadata": {
        "id": "Ez1Bgp6V6mzg",
        "colab_type": "code",
        "colab": {
          "base_uri": "https://localhost:8080/",
          "height": 71
        },
        "outputId": "eab700ef-b114-40ec-e01b-34a3a94fce80"
      },
      "source": [
        "def labelize_text(text,label):\n",
        "    result = []\n",
        "    prefix = label\n",
        "    for i, t in zip(text.index, text):\n",
        "        result.append(LabeledSentence(t.split(), [prefix + '_%s' % i]))\n",
        "    return result\n",
        "  \n",
        "all_x = pd.concat([x_train,x_validation])\n",
        "\n",
        "all_x_w2v = labelize_text(all_x, 'ALL')\n",
        "x_train = labelize_text(x_train, 'TRAIN')\n",
        "x_validation = labelize_text(x_validation, 'TEST')"
      ],
      "execution_count": null,
      "outputs": [
        {
          "output_type": "stream",
          "text": [
            "/usr/local/lib/python3.6/dist-packages/ipykernel_launcher.py:5: DeprecationWarning: Call to deprecated `LabeledSentence` (Class will be removed in 4.0.0, use TaggedDocument instead).\n",
            "  \"\"\"\n"
          ],
          "name": "stderr"
        }
      ]
    },
    {
      "cell_type": "code",
      "metadata": {
        "id": "43tgdTwT6wGx",
        "colab_type": "code",
        "colab": {
          "base_uri": "https://localhost:8080/",
          "height": 68
        },
        "outputId": "875cf252-8842-40dc-f193-f4ec06b81ba5"
      },
      "source": [
        "from gensim.models.word2vec import Word2Vec\n",
        "from tqdm import tqdm\n",
        "from sklearn import utils\n",
        "import numpy as np\n",
        "\n",
        "model_w2v = Word2Vec(size=200, min_count=10)\n",
        "model_w2v.build_vocab([x.words for x in tqdm(all_x_w2v)])\n",
        "model_w2v.train([x.words for x in tqdm(all_x_w2v)], total_examples=len(all_x_w2v), epochs=1)"
      ],
      "execution_count": null,
      "outputs": [
        {
          "output_type": "stream",
          "text": [
            "100%|██████████| 307/307 [00:00<00:00, 122423.59it/s]\n",
            "100%|██████████| 307/307 [00:00<00:00, 591751.53it/s]\n"
          ],
          "name": "stderr"
        },
        {
          "output_type": "execute_result",
          "data": {
            "text/plain": [
              "(12244, 25240)"
            ]
          },
          "metadata": {
            "tags": []
          },
          "execution_count": 36
        }
      ]
    },
    {
      "cell_type": "markdown",
      "metadata": {
        "id": "xcZGeZhj_bmB",
        "colab_type": "text"
      },
      "source": [
        "matrix conversion"
      ]
    },
    {
      "cell_type": "code",
      "metadata": {
        "id": "_UlkvsgN7YWD",
        "colab_type": "code",
        "colab": {}
      },
      "source": [
        "from sklearn.feature_extraction.text import TfidfVectorizer\n",
        "\n",
        "vectorizer = TfidfVectorizer(analyzer=lambda x: x, min_df=10)\n",
        "matrix = vectorizer.fit_transform([x.words for x in all_x_w2v])\n",
        "tfidf = dict(zip(vectorizer.get_feature_names(), vectorizer.idf_))\n",
        "\n",
        "def build_Word_Vector(tokens, size):\n",
        "    vec = np.zeros(size).reshape((1, size))\n",
        "    count = 0.\n",
        "    for word in tokens:\n",
        "        try:\n",
        "            vec += model_w2v[word].reshape((1, size)) * tfidf[word]\n",
        "            count += 1.\n",
        "        except KeyError: \n",
        "            \n",
        "            continue\n",
        "    if count != 0:\n",
        "        vec /= count\n",
        "    return vec"
      ],
      "execution_count": null,
      "outputs": []
    },
    {
      "cell_type": "code",
      "metadata": {
        "id": "bjRvA6fU7d5R",
        "colab_type": "code",
        "colab": {
          "base_uri": "https://localhost:8080/",
          "height": 1000
        },
        "outputId": "9d9a4b36-aeb9-4585-9674-865c6e7e0596"
      },
      "source": [
        "from sklearn.preprocessing import scale\n",
        "import numpy as np\n",
        "from keras.models import Sequential\n",
        "from keras.layers import Dense\n",
        "\n",
        "train_vecs_w2v = np.concatenate([build_Word_Vector(z, 200) for z in tqdm(map(lambda x: x.words, x_train))])\n",
        "train_vecs_w2v = scale(train_vecs_w2v)\n",
        "val_vecs_w2v = np.concatenate([build_Word_Vector(z, 200) for z in tqdm(map(lambda x: x.words, x_validation))])\n",
        "val_vecs_w2v = scale(val_vecs_w2v)\n",
        "\n",
        "\n",
        "model = Sequential()\n",
        "model.add(Dense(256, activation='relu', input_dim=200))\n",
        "model.add(Dense(256, activation='relu'))\n",
        "model.add(Dense(256, activation='relu'))\n",
        "model.add(Dense(1, activation='sigmoid'))\n",
        "model.compile(optimizer='adam',\n",
        "              loss='binary_crossentropy',\n",
        "              metrics=['accuracy'])\n",
        "\n",
        "history=model.fit(train_vecs_w2v, y_train,validation_split=0.2, epochs=100, batch_size=32, verbose=1)\n",
        "\n",
        "score,acc = model.evaluate(val_vecs_w2v, y_validation, batch_size=128, verbose=1)\n",
        "print(\"score: %.2f\" % (score))\n",
        "print(\"acc: %.4f\" % (acc))\n",
        "#print (score[1])\n",
        "plt.plot(history.history['accuracy'])\n",
        "plt.plot(history.history['val_accuracy'])\n",
        "plt.title('model accuracy')\n",
        "plt.ylabel('accuracy')\n",
        "plt.xlabel('epoch')\n",
        "plt.legend(['train', 'test'], loc='upper left')\n",
        "plt.show()\n",
        "\n",
        "plt.plot(history.history['loss'])\n",
        "plt.plot(history.history['val_loss'])\n",
        "\n",
        "plt.title('model loss')\n",
        "plt.ylabel('loss')\n",
        "plt.xlabel('epoch')\n",
        "plt.legend(['train','test'], loc='upper left')\n",
        "plt.show()"
      ],
      "execution_count": null,
      "outputs": [
        {
          "output_type": "stream",
          "text": [
            "0it [00:00, ?it/s]/usr/local/lib/python3.6/dist-packages/ipykernel_launcher.py:12: DeprecationWarning: Call to deprecated `__getitem__` (Method will be removed in 4.0.0, use self.wv.__getitem__() instead).\n",
            "  if sys.path[0] == '':\n",
            "245it [00:00, 1472.73it/s]\n",
            "0it [00:00, ?it/s]/usr/local/lib/python3.6/dist-packages/ipykernel_launcher.py:12: DeprecationWarning: Call to deprecated `__getitem__` (Method will be removed in 4.0.0, use self.wv.__getitem__() instead).\n",
            "  if sys.path[0] == '':\n",
            "62it [00:00, 1600.67it/s]\n"
          ],
          "name": "stderr"
        },
        {
          "output_type": "stream",
          "text": [
            "Train on 196 samples, validate on 49 samples\n",
            "Epoch 1/100\n",
            "196/196 [==============================] - 0s 843us/step - loss: 0.5150 - accuracy: 0.8316 - val_loss: 0.4859 - val_accuracy: 0.7959\n",
            "Epoch 2/100\n",
            "196/196 [==============================] - 0s 147us/step - loss: 0.2867 - accuracy: 0.8469 - val_loss: 0.5120 - val_accuracy: 0.7959\n",
            "Epoch 3/100\n",
            "196/196 [==============================] - 0s 157us/step - loss: 0.1735 - accuracy: 0.9184 - val_loss: 0.5029 - val_accuracy: 0.7959\n",
            "Epoch 4/100\n",
            "196/196 [==============================] - 0s 146us/step - loss: 0.0817 - accuracy: 0.9949 - val_loss: 0.4781 - val_accuracy: 0.8571\n",
            "Epoch 5/100\n",
            "196/196 [==============================] - 0s 143us/step - loss: 0.0274 - accuracy: 1.0000 - val_loss: 0.5593 - val_accuracy: 0.8571\n",
            "Epoch 6/100\n",
            "196/196 [==============================] - 0s 157us/step - loss: 0.0097 - accuracy: 1.0000 - val_loss: 0.6263 - val_accuracy: 0.8163\n",
            "Epoch 7/100\n",
            "196/196 [==============================] - 0s 144us/step - loss: 0.0031 - accuracy: 1.0000 - val_loss: 0.7371 - val_accuracy: 0.8571\n",
            "Epoch 8/100\n",
            "196/196 [==============================] - 0s 142us/step - loss: 0.0017 - accuracy: 1.0000 - val_loss: 0.8068 - val_accuracy: 0.8571\n",
            "Epoch 9/100\n",
            "196/196 [==============================] - 0s 144us/step - loss: 9.3544e-04 - accuracy: 1.0000 - val_loss: 0.8126 - val_accuracy: 0.8163\n",
            "Epoch 10/100\n",
            "196/196 [==============================] - 0s 149us/step - loss: 5.7122e-04 - accuracy: 1.0000 - val_loss: 0.8123 - val_accuracy: 0.8163\n",
            "Epoch 11/100\n",
            "196/196 [==============================] - 0s 153us/step - loss: 4.1893e-04 - accuracy: 1.0000 - val_loss: 0.8161 - val_accuracy: 0.8163\n",
            "Epoch 12/100\n",
            "196/196 [==============================] - 0s 153us/step - loss: 3.4748e-04 - accuracy: 1.0000 - val_loss: 0.8231 - val_accuracy: 0.8163\n",
            "Epoch 13/100\n",
            "196/196 [==============================] - 0s 145us/step - loss: 3.0749e-04 - accuracy: 1.0000 - val_loss: 0.8311 - val_accuracy: 0.8163\n",
            "Epoch 14/100\n",
            "196/196 [==============================] - 0s 153us/step - loss: 2.6814e-04 - accuracy: 1.0000 - val_loss: 0.8433 - val_accuracy: 0.8163\n",
            "Epoch 15/100\n",
            "196/196 [==============================] - 0s 145us/step - loss: 2.3258e-04 - accuracy: 1.0000 - val_loss: 0.8590 - val_accuracy: 0.8163\n",
            "Epoch 16/100\n",
            "196/196 [==============================] - 0s 144us/step - loss: 2.0622e-04 - accuracy: 1.0000 - val_loss: 0.8711 - val_accuracy: 0.8163\n",
            "Epoch 17/100\n",
            "196/196 [==============================] - 0s 142us/step - loss: 1.8517e-04 - accuracy: 1.0000 - val_loss: 0.8789 - val_accuracy: 0.8163\n",
            "Epoch 18/100\n",
            "196/196 [==============================] - 0s 145us/step - loss: 1.6577e-04 - accuracy: 1.0000 - val_loss: 0.8806 - val_accuracy: 0.8163\n",
            "Epoch 19/100\n",
            "196/196 [==============================] - 0s 144us/step - loss: 1.4961e-04 - accuracy: 1.0000 - val_loss: 0.8841 - val_accuracy: 0.8163\n",
            "Epoch 20/100\n",
            "196/196 [==============================] - 0s 156us/step - loss: 1.3568e-04 - accuracy: 1.0000 - val_loss: 0.8903 - val_accuracy: 0.8163\n",
            "Epoch 21/100\n",
            "196/196 [==============================] - 0s 149us/step - loss: 1.2426e-04 - accuracy: 1.0000 - val_loss: 0.8961 - val_accuracy: 0.8163\n",
            "Epoch 22/100\n",
            "196/196 [==============================] - 0s 164us/step - loss: 1.1355e-04 - accuracy: 1.0000 - val_loss: 0.9004 - val_accuracy: 0.8163\n",
            "Epoch 23/100\n",
            "196/196 [==============================] - 0s 130us/step - loss: 1.0406e-04 - accuracy: 1.0000 - val_loss: 0.9018 - val_accuracy: 0.8163\n",
            "Epoch 24/100\n",
            "196/196 [==============================] - 0s 141us/step - loss: 9.6330e-05 - accuracy: 1.0000 - val_loss: 0.9058 - val_accuracy: 0.8163\n",
            "Epoch 25/100\n",
            "196/196 [==============================] - 0s 133us/step - loss: 8.8308e-05 - accuracy: 1.0000 - val_loss: 0.9104 - val_accuracy: 0.8163\n",
            "Epoch 26/100\n",
            "196/196 [==============================] - 0s 176us/step - loss: 8.2123e-05 - accuracy: 1.0000 - val_loss: 0.9149 - val_accuracy: 0.8163\n",
            "Epoch 27/100\n",
            "196/196 [==============================] - 0s 137us/step - loss: 7.6695e-05 - accuracy: 1.0000 - val_loss: 0.9208 - val_accuracy: 0.8163\n",
            "Epoch 28/100\n",
            "196/196 [==============================] - 0s 140us/step - loss: 7.1201e-05 - accuracy: 1.0000 - val_loss: 0.9281 - val_accuracy: 0.8163\n",
            "Epoch 29/100\n",
            "196/196 [==============================] - 0s 150us/step - loss: 6.6890e-05 - accuracy: 1.0000 - val_loss: 0.9343 - val_accuracy: 0.8163\n",
            "Epoch 30/100\n",
            "196/196 [==============================] - 0s 207us/step - loss: 6.2295e-05 - accuracy: 1.0000 - val_loss: 0.9388 - val_accuracy: 0.8163\n",
            "Epoch 31/100\n",
            "196/196 [==============================] - 0s 203us/step - loss: 5.8601e-05 - accuracy: 1.0000 - val_loss: 0.9419 - val_accuracy: 0.8163\n",
            "Epoch 32/100\n",
            "196/196 [==============================] - 0s 147us/step - loss: 5.4806e-05 - accuracy: 1.0000 - val_loss: 0.9436 - val_accuracy: 0.8163\n",
            "Epoch 33/100\n",
            "196/196 [==============================] - 0s 161us/step - loss: 5.1099e-05 - accuracy: 1.0000 - val_loss: 0.9484 - val_accuracy: 0.8163\n",
            "Epoch 34/100\n",
            "196/196 [==============================] - 0s 158us/step - loss: 4.7665e-05 - accuracy: 1.0000 - val_loss: 0.9521 - val_accuracy: 0.8163\n",
            "Epoch 35/100\n",
            "196/196 [==============================] - 0s 144us/step - loss: 4.4865e-05 - accuracy: 1.0000 - val_loss: 0.9558 - val_accuracy: 0.8163\n",
            "Epoch 36/100\n",
            "196/196 [==============================] - 0s 144us/step - loss: 4.2084e-05 - accuracy: 1.0000 - val_loss: 0.9598 - val_accuracy: 0.8163\n",
            "Epoch 37/100\n",
            "196/196 [==============================] - 0s 166us/step - loss: 3.9415e-05 - accuracy: 1.0000 - val_loss: 0.9618 - val_accuracy: 0.8163\n",
            "Epoch 38/100\n",
            "196/196 [==============================] - 0s 162us/step - loss: 3.6843e-05 - accuracy: 1.0000 - val_loss: 0.9629 - val_accuracy: 0.8163\n",
            "Epoch 39/100\n",
            "196/196 [==============================] - 0s 173us/step - loss: 3.4569e-05 - accuracy: 1.0000 - val_loss: 0.9655 - val_accuracy: 0.8163\n",
            "Epoch 40/100\n",
            "196/196 [==============================] - 0s 157us/step - loss: 3.2595e-05 - accuracy: 1.0000 - val_loss: 0.9678 - val_accuracy: 0.8163\n",
            "Epoch 41/100\n",
            "196/196 [==============================] - 0s 149us/step - loss: 3.0486e-05 - accuracy: 1.0000 - val_loss: 0.9717 - val_accuracy: 0.8163\n",
            "Epoch 42/100\n",
            "196/196 [==============================] - 0s 148us/step - loss: 2.8793e-05 - accuracy: 1.0000 - val_loss: 0.9743 - val_accuracy: 0.8163\n",
            "Epoch 43/100\n",
            "196/196 [==============================] - 0s 177us/step - loss: 2.7233e-05 - accuracy: 1.0000 - val_loss: 0.9786 - val_accuracy: 0.8163\n",
            "Epoch 44/100\n",
            "196/196 [==============================] - 0s 173us/step - loss: 2.5805e-05 - accuracy: 1.0000 - val_loss: 0.9820 - val_accuracy: 0.8163\n",
            "Epoch 45/100\n",
            "196/196 [==============================] - 0s 176us/step - loss: 2.4530e-05 - accuracy: 1.0000 - val_loss: 0.9895 - val_accuracy: 0.8163\n",
            "Epoch 46/100\n",
            "196/196 [==============================] - 0s 185us/step - loss: 2.3241e-05 - accuracy: 1.0000 - val_loss: 0.9956 - val_accuracy: 0.8163\n",
            "Epoch 47/100\n",
            "196/196 [==============================] - 0s 157us/step - loss: 2.2162e-05 - accuracy: 1.0000 - val_loss: 1.0017 - val_accuracy: 0.8163\n",
            "Epoch 48/100\n",
            "196/196 [==============================] - 0s 152us/step - loss: 2.1166e-05 - accuracy: 1.0000 - val_loss: 1.0055 - val_accuracy: 0.8163\n",
            "Epoch 49/100\n",
            "196/196 [==============================] - 0s 142us/step - loss: 2.0214e-05 - accuracy: 1.0000 - val_loss: 1.0070 - val_accuracy: 0.8163\n",
            "Epoch 50/100\n",
            "196/196 [==============================] - 0s 162us/step - loss: 1.9384e-05 - accuracy: 1.0000 - val_loss: 1.0084 - val_accuracy: 0.8163\n",
            "Epoch 51/100\n",
            "196/196 [==============================] - 0s 164us/step - loss: 1.8421e-05 - accuracy: 1.0000 - val_loss: 1.0126 - val_accuracy: 0.8163\n",
            "Epoch 52/100\n",
            "196/196 [==============================] - 0s 157us/step - loss: 1.7613e-05 - accuracy: 1.0000 - val_loss: 1.0159 - val_accuracy: 0.8163\n",
            "Epoch 53/100\n",
            "196/196 [==============================] - 0s 154us/step - loss: 1.6892e-05 - accuracy: 1.0000 - val_loss: 1.0181 - val_accuracy: 0.8163\n",
            "Epoch 54/100\n",
            "196/196 [==============================] - 0s 156us/step - loss: 1.6182e-05 - accuracy: 1.0000 - val_loss: 1.0208 - val_accuracy: 0.8163\n",
            "Epoch 55/100\n",
            "196/196 [==============================] - 0s 168us/step - loss: 1.5563e-05 - accuracy: 1.0000 - val_loss: 1.0261 - val_accuracy: 0.8163\n",
            "Epoch 56/100\n",
            "196/196 [==============================] - 0s 195us/step - loss: 1.4900e-05 - accuracy: 1.0000 - val_loss: 1.0309 - val_accuracy: 0.8163\n",
            "Epoch 57/100\n",
            "196/196 [==============================] - 0s 156us/step - loss: 1.4325e-05 - accuracy: 1.0000 - val_loss: 1.0357 - val_accuracy: 0.8163\n",
            "Epoch 58/100\n",
            "196/196 [==============================] - 0s 164us/step - loss: 1.3779e-05 - accuracy: 1.0000 - val_loss: 1.0391 - val_accuracy: 0.8163\n",
            "Epoch 59/100\n",
            "196/196 [==============================] - 0s 148us/step - loss: 1.3299e-05 - accuracy: 1.0000 - val_loss: 1.0412 - val_accuracy: 0.8163\n",
            "Epoch 60/100\n",
            "196/196 [==============================] - 0s 146us/step - loss: 1.2819e-05 - accuracy: 1.0000 - val_loss: 1.0433 - val_accuracy: 0.8163\n",
            "Epoch 61/100\n",
            "196/196 [==============================] - 0s 169us/step - loss: 1.2368e-05 - accuracy: 1.0000 - val_loss: 1.0459 - val_accuracy: 0.8163\n",
            "Epoch 62/100\n",
            "196/196 [==============================] - 0s 148us/step - loss: 1.1932e-05 - accuracy: 1.0000 - val_loss: 1.0498 - val_accuracy: 0.8163\n",
            "Epoch 63/100\n",
            "196/196 [==============================] - 0s 148us/step - loss: 1.1517e-05 - accuracy: 1.0000 - val_loss: 1.0536 - val_accuracy: 0.8163\n",
            "Epoch 64/100\n",
            "196/196 [==============================] - 0s 140us/step - loss: 1.1144e-05 - accuracy: 1.0000 - val_loss: 1.0567 - val_accuracy: 0.8163\n",
            "Epoch 65/100\n",
            "196/196 [==============================] - 0s 141us/step - loss: 1.0780e-05 - accuracy: 1.0000 - val_loss: 1.0583 - val_accuracy: 0.8163\n",
            "Epoch 66/100\n",
            "196/196 [==============================] - 0s 141us/step - loss: 1.0410e-05 - accuracy: 1.0000 - val_loss: 1.0598 - val_accuracy: 0.8163\n",
            "Epoch 67/100\n",
            "196/196 [==============================] - 0s 147us/step - loss: 1.0043e-05 - accuracy: 1.0000 - val_loss: 1.0606 - val_accuracy: 0.8163\n",
            "Epoch 68/100\n",
            "196/196 [==============================] - 0s 144us/step - loss: 9.6843e-06 - accuracy: 1.0000 - val_loss: 1.0623 - val_accuracy: 0.8163\n",
            "Epoch 69/100\n",
            "196/196 [==============================] - 0s 138us/step - loss: 9.3881e-06 - accuracy: 1.0000 - val_loss: 1.0638 - val_accuracy: 0.8163\n",
            "Epoch 70/100\n",
            "196/196 [==============================] - 0s 147us/step - loss: 9.0907e-06 - accuracy: 1.0000 - val_loss: 1.0659 - val_accuracy: 0.8163\n",
            "Epoch 71/100\n",
            "196/196 [==============================] - 0s 145us/step - loss: 8.7797e-06 - accuracy: 1.0000 - val_loss: 1.0692 - val_accuracy: 0.8163\n",
            "Epoch 72/100\n",
            "196/196 [==============================] - 0s 140us/step - loss: 8.4821e-06 - accuracy: 1.0000 - val_loss: 1.0725 - val_accuracy: 0.8163\n",
            "Epoch 73/100\n",
            "196/196 [==============================] - 0s 151us/step - loss: 8.2419e-06 - accuracy: 1.0000 - val_loss: 1.0760 - val_accuracy: 0.8163\n",
            "Epoch 74/100\n",
            "196/196 [==============================] - 0s 140us/step - loss: 7.9815e-06 - accuracy: 1.0000 - val_loss: 1.0803 - val_accuracy: 0.8163\n",
            "Epoch 75/100\n",
            "196/196 [==============================] - 0s 146us/step - loss: 7.7388e-06 - accuracy: 1.0000 - val_loss: 1.0835 - val_accuracy: 0.8163\n",
            "Epoch 76/100\n",
            "196/196 [==============================] - 0s 147us/step - loss: 7.4829e-06 - accuracy: 1.0000 - val_loss: 1.0868 - val_accuracy: 0.8163\n",
            "Epoch 77/100\n",
            "196/196 [==============================] - 0s 144us/step - loss: 7.2578e-06 - accuracy: 1.0000 - val_loss: 1.0895 - val_accuracy: 0.8163\n",
            "Epoch 78/100\n",
            "196/196 [==============================] - 0s 148us/step - loss: 7.0397e-06 - accuracy: 1.0000 - val_loss: 1.0918 - val_accuracy: 0.8163\n",
            "Epoch 79/100\n",
            "196/196 [==============================] - 0s 143us/step - loss: 6.8376e-06 - accuracy: 1.0000 - val_loss: 1.0943 - val_accuracy: 0.8163\n",
            "Epoch 80/100\n",
            "196/196 [==============================] - 0s 145us/step - loss: 6.6558e-06 - accuracy: 1.0000 - val_loss: 1.0962 - val_accuracy: 0.8163\n",
            "Epoch 81/100\n",
            "196/196 [==============================] - 0s 156us/step - loss: 6.4739e-06 - accuracy: 1.0000 - val_loss: 1.0985 - val_accuracy: 0.8163\n",
            "Epoch 82/100\n",
            "196/196 [==============================] - 0s 146us/step - loss: 6.2960e-06 - accuracy: 1.0000 - val_loss: 1.1005 - val_accuracy: 0.8163\n",
            "Epoch 83/100\n",
            "196/196 [==============================] - 0s 141us/step - loss: 6.1041e-06 - accuracy: 1.0000 - val_loss: 1.1031 - val_accuracy: 0.8367\n",
            "Epoch 84/100\n",
            "196/196 [==============================] - 0s 149us/step - loss: 5.9033e-06 - accuracy: 1.0000 - val_loss: 1.1070 - val_accuracy: 0.8367\n",
            "Epoch 85/100\n",
            "196/196 [==============================] - 0s 147us/step - loss: 5.7281e-06 - accuracy: 1.0000 - val_loss: 1.1109 - val_accuracy: 0.8367\n",
            "Epoch 86/100\n",
            "196/196 [==============================] - 0s 148us/step - loss: 5.5477e-06 - accuracy: 1.0000 - val_loss: 1.1130 - val_accuracy: 0.8367\n",
            "Epoch 87/100\n",
            "196/196 [==============================] - 0s 145us/step - loss: 5.3967e-06 - accuracy: 1.0000 - val_loss: 1.1152 - val_accuracy: 0.8367\n",
            "Epoch 88/100\n",
            "196/196 [==============================] - 0s 141us/step - loss: 5.2512e-06 - accuracy: 1.0000 - val_loss: 1.1180 - val_accuracy: 0.8367\n",
            "Epoch 89/100\n",
            "196/196 [==============================] - 0s 194us/step - loss: 5.1078e-06 - accuracy: 1.0000 - val_loss: 1.1203 - val_accuracy: 0.8367\n",
            "Epoch 90/100\n",
            "196/196 [==============================] - 0s 147us/step - loss: 4.9854e-06 - accuracy: 1.0000 - val_loss: 1.1225 - val_accuracy: 0.8367\n",
            "Epoch 91/100\n",
            "196/196 [==============================] - 0s 136us/step - loss: 4.8546e-06 - accuracy: 1.0000 - val_loss: 1.1241 - val_accuracy: 0.8367\n",
            "Epoch 92/100\n",
            "196/196 [==============================] - 0s 154us/step - loss: 4.7369e-06 - accuracy: 1.0000 - val_loss: 1.1257 - val_accuracy: 0.8367\n",
            "Epoch 93/100\n",
            "196/196 [==============================] - 0s 144us/step - loss: 4.6200e-06 - accuracy: 1.0000 - val_loss: 1.1278 - val_accuracy: 0.8367\n",
            "Epoch 94/100\n",
            "196/196 [==============================] - 0s 143us/step - loss: 4.4961e-06 - accuracy: 1.0000 - val_loss: 1.1290 - val_accuracy: 0.8367\n",
            "Epoch 95/100\n",
            "196/196 [==============================] - 0s 168us/step - loss: 4.3877e-06 - accuracy: 1.0000 - val_loss: 1.1300 - val_accuracy: 0.8367\n",
            "Epoch 96/100\n",
            "196/196 [==============================] - 0s 151us/step - loss: 4.2837e-06 - accuracy: 1.0000 - val_loss: 1.1319 - val_accuracy: 0.8367\n",
            "Epoch 97/100\n",
            "196/196 [==============================] - 0s 153us/step - loss: 4.1679e-06 - accuracy: 1.0000 - val_loss: 1.1346 - val_accuracy: 0.8367\n",
            "Epoch 98/100\n",
            "196/196 [==============================] - 0s 155us/step - loss: 4.0442e-06 - accuracy: 1.0000 - val_loss: 1.1378 - val_accuracy: 0.8367\n",
            "Epoch 99/100\n",
            "196/196 [==============================] - 0s 147us/step - loss: 3.9286e-06 - accuracy: 1.0000 - val_loss: 1.1408 - val_accuracy: 0.8367\n",
            "Epoch 100/100\n",
            "196/196 [==============================] - 0s 146us/step - loss: 3.8378e-06 - accuracy: 1.0000 - val_loss: 1.1434 - val_accuracy: 0.8367\n",
            "62/62 [==============================] - 0s 59us/step\n",
            "score: 0.68\n",
            "acc: 0.8548\n"
          ],
          "name": "stdout"
        },
        {
          "output_type": "display_data",
          "data": {
            "image/png": "[encoded data removed]",
            "text/plain": [
              "<Figure size 432x288 with 1 Axes>"
            ]
          },
          "metadata": {
            "tags": []
          }
        },
        {
          "output_type": "display_data",
          "data": {
            "image/png": "[encoded data removed]",
            "text/plain": [
              "<Figure size 432x288 with 1 Axes>"
            ]
          },
          "metadata": {
            "tags": []
          }
        }
      ]
    },
    {
      "cell_type": "markdown",
      "metadata": {
        "id": "Us5cm7V9_J0r",
        "colab_type": "text"
      },
      "source": [
        "using word 2 vec model"
      ]
    },
    {
      "cell_type": "code",
      "metadata": {
        "id": "AVJ4MuuD7vLQ",
        "colab_type": "code",
        "colab": {}
      },
      "source": [
        "from sklearn.preprocessing import scale\n",
        "import numpy as np\n",
        "from keras.models import Sequential\n",
        "from keras.layers import Dense\n",
        "\n",
        "train_vecs_w2v = np.concatenate([build_Word_Vector(z, 200) for z in tqdm(map(lambda x: x.words, x_train))])\n",
        "train_vecs_w2v = scale(train_vecs_w2v)\n",
        "val_vecs_w2v = np.concatenate([build_Word_Vector(z, 200) for z in tqdm(map(lambda x: x.words, x_validation))])\n",
        "val_vecs_w2v = scale(val_vecs_w2v)\n",
        "\n",
        "\n",
        "model = Sequential()\n",
        "model.add(Dense(256, activation='relu', input_dim=200))\n",
        "model.add(Dense(256, activation='relu'))\n",
        "model.add(Dense(256, activation='relu'))\n",
        "model.add(Dense(1, activation='softmax'))\n",
        "model.compile(optimizer='adam',\n",
        "              loss='binary_crossentropy',\n",
        "              metrics=['accuracy'])\n",
        "\n",
        "history=model.fit(train_vecs_w2v, y_train,validation_split=0.2, epochs=100, batch_size=32, verbose=2)\n",
        "\n",
        "score,acc = model.evaluate(val_vecs_w2v, y_validation, batch_size=128, verbose=2)\n",
        "print(\"score: %.2f\" % (score))\n",
        "print(\"acc: %.2f\" % (acc))\n",
        "#print (score[1])\n",
        "plt.plot(history.history['accuracy'])\n",
        "plt.plot(history.history['val_accuracy'])\n",
        "plt.title('model accuracy')\n",
        "plt.ylabel('accuracy')\n",
        "plt.xlabel('epoch')\n",
        "plt.legend(['train', 'test'], loc='upper left')\n",
        "plt.show()\n",
        "\n",
        "plt.plot(history.history['loss'])\n",
        "plt.plot(history.history['val_loss'])\n",
        "\n",
        "plt.title('model loss')\n",
        "plt.ylabel('loss')\n",
        "plt.xlabel('epoch')\n",
        "plt.legend(['train','test'], loc='upper left')\n",
        "plt.show()"
      ],
      "execution_count": null,
      "outputs": []
    },
    {
      "cell_type": "markdown",
      "metadata": {
        "id": "URKgmEPB98qb",
        "colab_type": "text"
      },
      "source": [
        "doc 2 to vec word embedding using multiprocessing "
      ]
    },
    {
      "cell_type": "code",
      "metadata": {
        "id": "KRYmXLfh9bFD",
        "colab_type": "code",
        "colab": {
          "base_uri": "https://localhost:8080/",
          "height": 1000
        },
        "outputId": "f0412b96-ea48-4230-8aff-db59e12f9022"
      },
      "source": [
        "from gensim.models import Doc2Vec\n",
        "import multiprocessing\n",
        "cores = multiprocessing.cpu_count()\n",
        "model_dmm = Doc2Vec(dm=1, dm_mean=1, size=100, window=4, negative=5, min_count=2, workers=cores, alpha=0.065, min_alpha=0.065)\n",
        "model_dmm.build_vocab([x for x in tqdm(all_x_w2v)])\n",
        "model_dmm.train(utils.shuffle([x for x in tqdm(all_x_w2v)]), total_examples=len(all_x_w2v), epochs=1)\n",
        "\n",
        "def build_doc_Vector(tokens, size):\n",
        "    vec = np.zeros(size).reshape((1, size))\n",
        "    count = 0.\n",
        "    for word in tokens:\n",
        "        try:\n",
        "            vec += model_dmm[word].reshape((1, size)) * tfidf[word]\n",
        "            count += 1.\n",
        "        except KeyError: \n",
        "            continue\n",
        "    if count != 0:\n",
        "        vec /= count\n",
        "    return vec\n",
        "\n",
        "  \n",
        "train_vecs_dmm = np.concatenate([build_doc_Vector(z, 100) for z in tqdm(map(lambda x: x.words, x_train))])\n",
        "train_vecs_dmm = scale(train_vecs_dmm)\n",
        "\n",
        "val_vecs_dmm = np.concatenate([build_doc_Vector(z, 100) for z in tqdm(map(lambda x: x.words, x_validation))])\n",
        "val_vecs_dmm = scale(val_vecs_dmm)\n",
        "\n",
        "model = Sequential()\n",
        "model.add(Dense(256, activation='relu', input_dim=100))\n",
        "model.add(Dense(256, activation='relu'))\n",
        "model.add(Dense(256, activation='relu'))\n",
        "model.add(Dense(1, activation='sigmoid'))\n",
        "model.compile(optimizer='adam',\n",
        "              loss='binary_crossentropy',\n",
        "              metrics=['accuracy'])\n",
        "history=model.fit(train_vecs_dmm, y_train, validation_split=0.2,epochs=100, batch_size=32, verbose=2)\n",
        "score,acc = model.evaluate(val_vecs_dmm, y_validation, batch_size=128, verbose=2)\n",
        "print(\"score: %.2f\" % (score))\n",
        "print(\"acc: %.4f\" % (acc))\n",
        "#print (score[1])\n",
        "plt.plot(history.history['accuracy'])\n",
        "plt.plot(history.history['val_accuracy'])\n",
        "plt.title('model accuracy')\n",
        "plt.ylabel('accuracy')\n",
        "plt.xlabel('epoch')\n",
        "plt.legend(['train', 'test'], loc='upper left')\n",
        "plt.show()\n",
        "\n",
        "plt.plot(history.history['loss'])\n",
        "plt.plot(history.history['val_loss'])\n",
        "\n",
        "plt.title('model loss')\n",
        "plt.ylabel('loss')\n",
        "plt.xlabel('epoch')\n",
        "plt.legend(['train','test'], loc='upper left')\n",
        "plt.show()"
      ],
      "execution_count": null,
      "outputs": [
        {
          "output_type": "stream",
          "text": [
            "/usr/local/lib/python3.6/dist-packages/gensim/models/doc2vec.py:570: UserWarning: The parameter `size` is deprecated, will be removed in 4.0.0, use `vector_size` instead.\n",
            "  warnings.warn(\"The parameter `size` is deprecated, will be removed in 4.0.0, use `vector_size` instead.\")\n",
            "100%|██████████| 307/307 [00:00<00:00, 634936.55it/s]\n",
            "100%|██████████| 307/307 [00:00<00:00, 777097.96it/s]\n",
            "245it [00:00, 2130.33it/s]\n",
            "62it [00:00, 2322.07it/s]\n"
          ],
          "name": "stderr"
        },
        {
          "output_type": "stream",
          "text": [
            "Train on 196 samples, validate on 49 samples\n",
            "Epoch 1/100\n",
            " - 0s - loss: 0.5225 - accuracy: 0.8316 - val_loss: 0.6665 - val_accuracy: 0.7959\n",
            "Epoch 2/100\n",
            " - 0s - loss: 0.4707 - accuracy: 0.8316 - val_loss: 0.5418 - val_accuracy: 0.7959\n",
            "Epoch 3/100\n",
            " - 0s - loss: 0.4432 - accuracy: 0.8316 - val_loss: 0.6441 - val_accuracy: 0.7959\n",
            "Epoch 4/100\n",
            " - 0s - loss: 0.4510 - accuracy: 0.8316 - val_loss: 0.5888 - val_accuracy: 0.7959\n",
            "Epoch 5/100\n",
            " - 0s - loss: 0.4749 - accuracy: 0.8367 - val_loss: 0.5479 - val_accuracy: 0.7959\n",
            "Epoch 6/100\n",
            " - 0s - loss: 0.4266 - accuracy: 0.8316 - val_loss: 0.6143 - val_accuracy: 0.7959\n",
            "Epoch 7/100\n",
            " - 0s - loss: 0.4107 - accuracy: 0.8316 - val_loss: 0.5375 - val_accuracy: 0.7959\n",
            "Epoch 8/100\n",
            " - 0s - loss: 0.4367 - accuracy: 0.8367 - val_loss: 0.5276 - val_accuracy: 0.7959\n",
            "Epoch 9/100\n",
            " - 0s - loss: 0.3920 - accuracy: 0.8367 - val_loss: 0.6437 - val_accuracy: 0.7959\n",
            "Epoch 10/100\n",
            " - 0s - loss: 0.3946 - accuracy: 0.8367 - val_loss: 0.5580 - val_accuracy: 0.7959\n",
            "Epoch 11/100\n",
            " - 0s - loss: 0.3506 - accuracy: 0.8367 - val_loss: 0.4986 - val_accuracy: 0.7959\n",
            "Epoch 12/100\n",
            " - 0s - loss: 0.3562 - accuracy: 0.8469 - val_loss: 0.5500 - val_accuracy: 0.7959\n",
            "Epoch 13/100\n",
            " - 0s - loss: 0.3236 - accuracy: 0.8469 - val_loss: 0.5564 - val_accuracy: 0.7959\n",
            "Epoch 14/100\n",
            " - 0s - loss: 0.2923 - accuracy: 0.8367 - val_loss: 0.5190 - val_accuracy: 0.7959\n",
            "Epoch 15/100\n",
            " - 0s - loss: 0.2775 - accuracy: 0.8724 - val_loss: 0.4826 - val_accuracy: 0.8163\n",
            "Epoch 16/100\n",
            " - 0s - loss: 0.2892 - accuracy: 0.8622 - val_loss: 0.5642 - val_accuracy: 0.6735\n",
            "Epoch 17/100\n",
            " - 0s - loss: 0.6638 - accuracy: 0.6582 - val_loss: 0.4866 - val_accuracy: 0.6939\n",
            "Epoch 18/100\n",
            " - 0s - loss: 0.3585 - accuracy: 0.8571 - val_loss: 0.5233 - val_accuracy: 0.7959\n",
            "Epoch 19/100\n",
            " - 0s - loss: 0.3360 - accuracy: 0.8724 - val_loss: 0.5472 - val_accuracy: 0.7143\n",
            "Epoch 20/100\n",
            " - 0s - loss: 0.5317 - accuracy: 0.7245 - val_loss: 0.5047 - val_accuracy: 0.7959\n",
            "Epoch 21/100\n",
            " - 0s - loss: 0.3936 - accuracy: 0.8469 - val_loss: 0.6409 - val_accuracy: 0.7959\n",
            "Epoch 22/100\n",
            " - 0s - loss: 0.3656 - accuracy: 0.8418 - val_loss: 0.4972 - val_accuracy: 0.7959\n",
            "Epoch 23/100\n",
            " - 0s - loss: 0.3139 - accuracy: 0.8469 - val_loss: 0.4649 - val_accuracy: 0.7959\n",
            "Epoch 24/100\n",
            " - 0s - loss: 0.3066 - accuracy: 0.8469 - val_loss: 0.4524 - val_accuracy: 0.7959\n",
            "Epoch 25/100\n",
            " - 0s - loss: 0.2927 - accuracy: 0.8520 - val_loss: 0.5282 - val_accuracy: 0.7959\n",
            "Epoch 26/100\n",
            " - 0s - loss: 0.2591 - accuracy: 0.8827 - val_loss: 0.4865 - val_accuracy: 0.8163\n",
            "Epoch 27/100\n",
            " - 0s - loss: 0.2245 - accuracy: 0.8929 - val_loss: 0.4812 - val_accuracy: 0.8367\n",
            "Epoch 28/100\n",
            " - 0s - loss: 0.2107 - accuracy: 0.9082 - val_loss: 0.3901 - val_accuracy: 0.8367\n",
            "Epoch 29/100\n",
            " - 0s - loss: 0.1927 - accuracy: 0.9337 - val_loss: 0.7945 - val_accuracy: 0.7755\n",
            "Epoch 30/100\n",
            " - 0s - loss: 0.2403 - accuracy: 0.9133 - val_loss: 0.5290 - val_accuracy: 0.7959\n",
            "Epoch 31/100\n",
            " - 0s - loss: 0.1887 - accuracy: 0.9235 - val_loss: 0.4033 - val_accuracy: 0.8367\n",
            "Epoch 32/100\n",
            " - 0s - loss: 0.1900 - accuracy: 0.9337 - val_loss: 1.2977 - val_accuracy: 0.6939\n",
            "Epoch 33/100\n",
            " - 0s - loss: 0.2940 - accuracy: 0.9184 - val_loss: 1.0942 - val_accuracy: 0.6531\n",
            "Epoch 34/100\n",
            " - 0s - loss: 0.2595 - accuracy: 0.8827 - val_loss: 0.6718 - val_accuracy: 0.7347\n",
            "Epoch 35/100\n",
            " - 0s - loss: 0.2076 - accuracy: 0.9184 - val_loss: 0.4894 - val_accuracy: 0.7755\n",
            "Epoch 36/100\n",
            " - 0s - loss: 0.1893 - accuracy: 0.9184 - val_loss: 0.4586 - val_accuracy: 0.8571\n",
            "Epoch 37/100\n",
            " - 0s - loss: 0.1443 - accuracy: 0.9745 - val_loss: 0.6476 - val_accuracy: 0.8776\n",
            "Epoch 38/100\n",
            " - 0s - loss: 0.2088 - accuracy: 0.9235 - val_loss: 0.4144 - val_accuracy: 0.8776\n",
            "Epoch 39/100\n",
            " - 0s - loss: 0.3339 - accuracy: 0.8673 - val_loss: 0.5599 - val_accuracy: 0.7755\n",
            "Epoch 40/100\n",
            " - 0s - loss: 0.2478 - accuracy: 0.8980 - val_loss: 0.4285 - val_accuracy: 0.8163\n",
            "Epoch 41/100\n",
            " - 0s - loss: 0.1657 - accuracy: 0.9337 - val_loss: 0.4646 - val_accuracy: 0.8367\n",
            "Epoch 42/100\n",
            " - 0s - loss: 0.1551 - accuracy: 0.9388 - val_loss: 0.5083 - val_accuracy: 0.7755\n",
            "Epoch 43/100\n",
            " - 0s - loss: 0.1552 - accuracy: 0.9490 - val_loss: 0.6346 - val_accuracy: 0.8367\n",
            "Epoch 44/100\n",
            " - 0s - loss: 0.1540 - accuracy: 0.9235 - val_loss: 0.4500 - val_accuracy: 0.8163\n",
            "Epoch 45/100\n",
            " - 0s - loss: 0.0986 - accuracy: 0.9694 - val_loss: 0.5870 - val_accuracy: 0.8776\n",
            "Epoch 46/100\n",
            " - 0s - loss: 0.0981 - accuracy: 0.9541 - val_loss: 0.5228 - val_accuracy: 0.7755\n",
            "Epoch 47/100\n",
            " - 0s - loss: 0.0782 - accuracy: 0.9796 - val_loss: 0.6701 - val_accuracy: 0.8163\n",
            "Epoch 48/100\n",
            " - 0s - loss: 0.1230 - accuracy: 0.9337 - val_loss: 0.9258 - val_accuracy: 0.7959\n",
            "Epoch 49/100\n",
            " - 0s - loss: 0.6657 - accuracy: 0.9286 - val_loss: 1.3743 - val_accuracy: 0.7959\n",
            "Epoch 50/100\n",
            " - 0s - loss: 0.3268 - accuracy: 0.9388 - val_loss: 0.8717 - val_accuracy: 0.6531\n",
            "Epoch 51/100\n",
            " - 0s - loss: 0.3165 - accuracy: 0.8622 - val_loss: 0.8800 - val_accuracy: 0.7347\n",
            "Epoch 52/100\n",
            " - 0s - loss: 0.2457 - accuracy: 0.9133 - val_loss: 0.7386 - val_accuracy: 0.7551\n",
            "Epoch 53/100\n",
            " - 0s - loss: 0.2827 - accuracy: 0.9235 - val_loss: 0.6121 - val_accuracy: 0.7347\n",
            "Epoch 54/100\n",
            " - 0s - loss: 0.1983 - accuracy: 0.9286 - val_loss: 0.6362 - val_accuracy: 0.7551\n",
            "Epoch 55/100\n",
            " - 0s - loss: 0.2086 - accuracy: 0.9031 - val_loss: 0.5252 - val_accuracy: 0.7755\n",
            "Epoch 56/100\n",
            " - 0s - loss: 0.1372 - accuracy: 0.9541 - val_loss: 0.4656 - val_accuracy: 0.8776\n",
            "Epoch 57/100\n",
            " - 0s - loss: 0.1197 - accuracy: 0.9643 - val_loss: 0.5879 - val_accuracy: 0.8571\n",
            "Epoch 58/100\n",
            " - 0s - loss: 0.1075 - accuracy: 0.9592 - val_loss: 0.5483 - val_accuracy: 0.7347\n",
            "Epoch 59/100\n",
            " - 0s - loss: 0.1761 - accuracy: 0.9337 - val_loss: 0.7228 - val_accuracy: 0.8571\n",
            "Epoch 60/100\n",
            " - 0s - loss: 0.1342 - accuracy: 0.9490 - val_loss: 0.4578 - val_accuracy: 0.7959\n",
            "Epoch 61/100\n",
            " - 0s - loss: 0.0901 - accuracy: 0.9694 - val_loss: 0.5430 - val_accuracy: 0.8571\n",
            "Epoch 62/100\n",
            " - 0s - loss: 0.0944 - accuracy: 0.9694 - val_loss: 0.5056 - val_accuracy: 0.8571\n",
            "Epoch 63/100\n",
            " - 0s - loss: 0.0744 - accuracy: 0.9796 - val_loss: 0.5900 - val_accuracy: 0.8776\n",
            "Epoch 64/100\n",
            " - 0s - loss: 0.0965 - accuracy: 0.9745 - val_loss: 0.6119 - val_accuracy: 0.7959\n",
            "Epoch 65/100\n",
            " - 0s - loss: 0.0629 - accuracy: 0.9847 - val_loss: 0.5235 - val_accuracy: 0.8367\n",
            "Epoch 66/100\n",
            " - 0s - loss: 0.0550 - accuracy: 0.9847 - val_loss: 0.6572 - val_accuracy: 0.8163\n",
            "Epoch 67/100\n",
            " - 0s - loss: 0.0511 - accuracy: 0.9796 - val_loss: 0.6166 - val_accuracy: 0.7959\n",
            "Epoch 68/100\n",
            " - 0s - loss: 0.0366 - accuracy: 0.9949 - val_loss: 0.7781 - val_accuracy: 0.8367\n",
            "Epoch 69/100\n",
            " - 0s - loss: 0.0485 - accuracy: 0.9796 - val_loss: 0.6418 - val_accuracy: 0.7959\n",
            "Epoch 70/100\n",
            " - 0s - loss: 0.1118 - accuracy: 0.9592 - val_loss: 1.1121 - val_accuracy: 0.7959\n",
            "Epoch 71/100\n",
            " - 0s - loss: 0.1574 - accuracy: 0.9439 - val_loss: 0.9778 - val_accuracy: 0.7551\n",
            "Epoch 72/100\n",
            " - 0s - loss: 0.2742 - accuracy: 0.9388 - val_loss: 1.0049 - val_accuracy: 0.7551\n",
            "Epoch 73/100\n",
            " - 0s - loss: 0.2058 - accuracy: 0.9286 - val_loss: 0.5563 - val_accuracy: 0.8163\n",
            "Epoch 74/100\n",
            " - 0s - loss: 0.1576 - accuracy: 0.9439 - val_loss: 0.8425 - val_accuracy: 0.8367\n",
            "Epoch 75/100\n",
            " - 0s - loss: 0.2061 - accuracy: 0.9286 - val_loss: 0.6461 - val_accuracy: 0.7959\n",
            "Epoch 76/100\n",
            " - 0s - loss: 0.1288 - accuracy: 0.9592 - val_loss: 0.5557 - val_accuracy: 0.7959\n",
            "Epoch 77/100\n",
            " - 0s - loss: 0.0982 - accuracy: 0.9694 - val_loss: 0.5498 - val_accuracy: 0.8776\n",
            "Epoch 78/100\n",
            " - 0s - loss: 0.0790 - accuracy: 0.9745 - val_loss: 0.5838 - val_accuracy: 0.8571\n",
            "Epoch 79/100\n",
            " - 0s - loss: 0.0672 - accuracy: 0.9745 - val_loss: 0.5976 - val_accuracy: 0.8163\n",
            "Epoch 80/100\n",
            " - 0s - loss: 0.0561 - accuracy: 0.9796 - val_loss: 0.5475 - val_accuracy: 0.8571\n",
            "Epoch 81/100\n",
            " - 0s - loss: 0.0412 - accuracy: 0.9949 - val_loss: 0.6039 - val_accuracy: 0.8163\n",
            "Epoch 82/100\n",
            " - 0s - loss: 0.0378 - accuracy: 0.9847 - val_loss: 0.7300 - val_accuracy: 0.8367\n",
            "Epoch 83/100\n",
            " - 0s - loss: 0.0490 - accuracy: 0.9898 - val_loss: 0.6331 - val_accuracy: 0.8163\n",
            "Epoch 84/100\n",
            " - 0s - loss: 0.0282 - accuracy: 0.9898 - val_loss: 0.6192 - val_accuracy: 0.8367\n",
            "Epoch 85/100\n",
            " - 0s - loss: 0.0213 - accuracy: 0.9949 - val_loss: 0.6394 - val_accuracy: 0.8571\n",
            "Epoch 86/100\n",
            " - 0s - loss: 0.0200 - accuracy: 0.9949 - val_loss: 0.6164 - val_accuracy: 0.8367\n",
            "Epoch 87/100\n",
            " - 0s - loss: 0.0204 - accuracy: 0.9949 - val_loss: 0.7526 - val_accuracy: 0.8367\n",
            "Epoch 88/100\n",
            " - 0s - loss: 0.0134 - accuracy: 1.0000 - val_loss: 0.6763 - val_accuracy: 0.7551\n",
            "Epoch 89/100\n",
            " - 0s - loss: 0.0430 - accuracy: 0.9847 - val_loss: 0.9736 - val_accuracy: 0.8776\n",
            "Epoch 90/100\n",
            " - 0s - loss: 0.1105 - accuracy: 0.9796 - val_loss: 0.7431 - val_accuracy: 0.7143\n",
            "Epoch 91/100\n",
            " - 0s - loss: 0.0642 - accuracy: 0.9745 - val_loss: 0.6644 - val_accuracy: 0.8367\n",
            "Epoch 92/100\n",
            " - 0s - loss: 0.0323 - accuracy: 0.9898 - val_loss: 0.8072 - val_accuracy: 0.8163\n",
            "Epoch 93/100\n",
            " - 0s - loss: 0.0454 - accuracy: 0.9847 - val_loss: 0.6922 - val_accuracy: 0.8776\n",
            "Epoch 94/100\n",
            " - 0s - loss: 0.0283 - accuracy: 0.9949 - val_loss: 0.7213 - val_accuracy: 0.8776\n",
            "Epoch 95/100\n",
            " - 0s - loss: 0.0275 - accuracy: 0.9949 - val_loss: 0.8230 - val_accuracy: 0.7755\n",
            "Epoch 96/100\n",
            " - 0s - loss: 0.3080 - accuracy: 0.8673 - val_loss: 0.6895 - val_accuracy: 0.8163\n",
            "Epoch 97/100\n",
            " - 0s - loss: 0.2155 - accuracy: 0.9286 - val_loss: 0.9251 - val_accuracy: 0.7755\n",
            "Epoch 98/100\n",
            " - 0s - loss: 0.1856 - accuracy: 0.9337 - val_loss: 0.7511 - val_accuracy: 0.7551\n",
            "Epoch 99/100\n",
            " - 0s - loss: 0.1819 - accuracy: 0.9337 - val_loss: 0.6020 - val_accuracy: 0.7959\n",
            "Epoch 100/100\n",
            " - 0s - loss: 0.1257 - accuracy: 0.9388 - val_loss: 0.5867 - val_accuracy: 0.8367\n",
            "score: 1.03\n",
            "acc: 0.7419\n"
          ],
          "name": "stdout"
        },
        {
          "output_type": "display_data",
          "data": {
            "image/png": "[encoded data removed]",
            "text/plain": [
              "<Figure size 432x288 with 1 Axes>"
            ]
          },
          "metadata": {
            "tags": []
          }
        },
        {
          "output_type": "display_data",
          "data": {
            "image/png": "[encoded data removed]",
            "text/plain": [
              "<Figure size 432x288 with 1 Axes>"
            ]
          },
          "metadata": {
            "tags": []
          }
        }
      ]
    },
    {
      "cell_type": "markdown",
      "metadata": {
        "id": "n8inEQpPGvMJ",
        "colab_type": "text"
      },
      "source": [
        "Distributed Memory Concatenation - DMC DOC2VEC"
      ]
    },
    {
      "cell_type": "code",
      "metadata": {
        "id": "qTBSlYmtGJIE",
        "colab_type": "code",
        "colab": {
          "base_uri": "https://localhost:8080/",
          "height": 916
        },
        "outputId": "1a72cbd2-4ae9-49af-f334-4039d2f21275"
      },
      "source": [
        "cores = multiprocessing.cpu_count()\n",
        "model_dmc = Doc2Vec(dm=1, dm_concat=1, size=100, window=2, negative=5, min_count=2, workers=cores, alpha=0.065, min_alpha=0.065)\n",
        "model_dmc.build_vocab([x for x in tqdm(all_x_w2v)])\n",
        "model_dmc.train(utils.shuffle([x for x in tqdm(all_x_w2v)]), total_examples=len(all_x_w2v), epochs=1)\n",
        "\n",
        "def build_doc_Vector(tokens, size):\n",
        "    vec = np.zeros(size).reshape((1, size))\n",
        "    count = 0.\n",
        "    for word in tokens:\n",
        "        try:\n",
        "            vec += model_dmc[word].reshape((1, size)) * tfidf[word]\n",
        "            count += 1.\n",
        "        except KeyError: \n",
        "            continue\n",
        "    if count != 0:\n",
        "        vec /= count\n",
        "    return vec\n",
        "\n",
        "  \n",
        "train_vecs_dmc = np.concatenate([build_doc_Vector(z, 100) for z in tqdm(map(lambda x: x.words, x_train))])\n",
        "train_vecs_dmc = scale(train_vecs_dmc)\n",
        "\n",
        "\n",
        "val_vecs_dmc = np.concatenate([build_doc_Vector(z, 100) for z in tqdm(map(lambda x: x.words, x_validation))])\n",
        "val_vecs_dmc = scale(val_vecs_dmc)\n",
        "\n",
        "model = Sequential()\n",
        "model.add(Dense(256, activation='relu', input_dim=100))\n",
        "model.add(Dense(256, activation='relu'))\n",
        "model.add(Dense(256, activation='relu'))\n",
        "model.add(Dense(1, activation='sigmoid'))\n",
        "model.compile(optimizer='adam',\n",
        "              loss='binary_crossentropy',\n",
        "              metrics=['accuracy'])\n",
        "history=model.fit(train_vecs_dmc, y_train,validation_split=0.2, epochs=5, batch_size=32, verbose=2)\n",
        "score,acc = model.evaluate(val_vecs_dmc, y_validation, batch_size=128, verbose=2)\n",
        "print(\"score: %.2f\" % (score))\n",
        "print(\"acc: %.2f\" % (acc))\n",
        "\n",
        "plt.plot(history.history['accuracy'])\n",
        "plt.plot(history.history['val_accuracy'])\n",
        "plt.title('model accuracy')\n",
        "plt.ylabel('accuracy')\n",
        "plt.xlabel('epoch')\n",
        "plt.legend(['train', 'test'], loc='upper left')\n",
        "plt.show()\n",
        "\n",
        "plt.plot(history.history['loss'])\n",
        "plt.plot(history.history['val_loss'])\n",
        "\n",
        "plt.title('model loss')\n",
        "plt.ylabel('loss')\n",
        "plt.xlabel('epoch')\n",
        "plt.legend(['train','test'], loc='upper left')\n",
        "plt.show()\n"
      ],
      "execution_count": null,
      "outputs": [
        {
          "output_type": "stream",
          "text": [
            "/usr/local/lib/python3.6/dist-packages/gensim/models/doc2vec.py:570: UserWarning: The parameter `size` is deprecated, will be removed in 4.0.0, use `vector_size` instead.\n",
            "  warnings.warn(\"The parameter `size` is deprecated, will be removed in 4.0.0, use `vector_size` instead.\")\n",
            "100%|██████████| 307/307 [00:00<00:00, 129908.33it/s]\n",
            "100%|██████████| 307/307 [00:00<00:00, 188308.18it/s]\n",
            "245it [00:00, 1920.33it/s]\n",
            "62it [00:00, 1991.28it/s]\n"
          ],
          "name": "stderr"
        },
        {
          "output_type": "stream",
          "text": [
            "Train on 196 samples, validate on 49 samples\n",
            "Epoch 1/5\n",
            " - 0s - loss: 0.5019 - accuracy: 0.7296 - val_loss: 0.5050 - val_accuracy: 0.7959\n",
            "Epoch 2/5\n",
            " - 0s - loss: 0.3717 - accuracy: 0.8316 - val_loss: 0.4317 - val_accuracy: 0.7959\n",
            "Epoch 3/5\n",
            " - 0s - loss: 0.3004 - accuracy: 0.8316 - val_loss: 0.4069 - val_accuracy: 0.7959\n",
            "Epoch 4/5\n",
            " - 0s - loss: 0.2343 - accuracy: 0.8878 - val_loss: 0.3683 - val_accuracy: 0.7959\n",
            "Epoch 5/5\n",
            " - 0s - loss: 0.1743 - accuracy: 0.9490 - val_loss: 0.3978 - val_accuracy: 0.8163\n",
            "score: 0.48\n",
            "acc: 0.81\n"
          ],
          "name": "stdout"
        },
        {
          "output_type": "display_data",
          "data": {
            "image/png": "[encoded data removed]",
            "text/plain": [
              "<Figure size 432x288 with 1 Axes>"
            ]
          },
          "metadata": {
            "tags": []
          }
        },
        {
          "output_type": "display_data",
          "data": {
            "image/png": "[encoded data removed]",
            "text/plain": [
              "<Figure size 432x288 with 1 Axes>"
            ]
          },
          "metadata": {
            "tags": []
          }
        }
      ]
    },
    {
      "cell_type": "markdown",
      "metadata": {
        "id": "OCQbpN28I5Qz",
        "colab_type": "text"
      },
      "source": [
        "distributed memory mean - doc2vec"
      ]
    },
    {
      "cell_type": "code",
      "metadata": {
        "id": "nLf6KnK9I4ig",
        "colab_type": "code",
        "colab": {
          "base_uri": "https://localhost:8080/",
          "height": 916
        },
        "outputId": "ae5199e2-7a44-4c02-a672-89768958199a"
      },
      "source": [
        "cores = multiprocessing.cpu_count()\n",
        "model_dmm = Doc2Vec(dm=1, dm_mean=1, size=100, window=4, negative=5, min_count=2, workers=cores, alpha=0.065, min_alpha=0.065)\n",
        "model_dmm.build_vocab([x for x in tqdm(all_x_w2v)])\n",
        "model_dmm.train(utils.shuffle([x for x in tqdm(all_x_w2v)]), total_examples=len(all_x_w2v), epochs=1)\n",
        "\n",
        "def build_doc_Vector(tokens, size):\n",
        "    vec = np.zeros(size).reshape((1, size))\n",
        "    count = 0.\n",
        "    for word in tokens:\n",
        "        try:\n",
        "            vec += model_dmm[word].reshape((1, size)) * tfidf[word]\n",
        "            count += 1.\n",
        "        except KeyError: \n",
        "            continue\n",
        "    if count != 0:\n",
        "        vec /= count\n",
        "    return vec\n",
        "\n",
        "  \n",
        "train_vecs_dmm = np.concatenate([build_doc_Vector(z, 100) for z in tqdm(map(lambda x: x.words, x_train))])\n",
        "train_vecs_dmm = scale(train_vecs_dmm)\n",
        "\n",
        "val_vecs_dmm = np.concatenate([build_doc_Vector(z, 100) for z in tqdm(map(lambda x: x.words, x_validation))])\n",
        "val_vecs_dmm = scale(val_vecs_dmm)\n",
        "\n",
        "model = Sequential()\n",
        "model.add(Dense(256, activation='relu', input_dim=100))\n",
        "model.add(Dense(256, activation='relu'))\n",
        "model.add(Dense(256, activation='relu'))\n",
        "model.add(Dense(1, activation='sigmoid'))\n",
        "model.compile(optimizer='adam',\n",
        "              loss='binary_crossentropy',\n",
        "              metrics=['accuracy'])\n",
        "history=model.fit(train_vecs_dmm, y_train,validation_split=0.2, epochs=5, batch_size=32, verbose=2)\n",
        "score,acc = model.evaluate(val_vecs_dmm, y_validation, batch_size=128, verbose=2)\n",
        "print(\"score: %.2f\" % (score))\n",
        "print(\"acc: %.4f\" % (acc))\n",
        "\n",
        "plt.plot(history.history['accuracy'])\n",
        "plt.plot(history.history['val_accuracy'])\n",
        "plt.title('model accuracy')\n",
        "plt.ylabel('accuracy')\n",
        "plt.xlabel('epoch')\n",
        "plt.legend(['train', 'test'], loc='upper left')\n",
        "plt.show()\n",
        "\n",
        "plt.plot(history.history['loss'])\n",
        "plt.plot(history.history['val_loss'])\n",
        "\n",
        "plt.title('model loss')\n",
        "plt.ylabel('loss')\n",
        "plt.xlabel('epoch')\n",
        "plt.legend(['train','test'], loc='upper left')\n",
        "plt.show()"
      ],
      "execution_count": null,
      "outputs": [
        {
          "output_type": "stream",
          "text": [
            "/usr/local/lib/python3.6/dist-packages/gensim/models/doc2vec.py:570: UserWarning: The parameter `size` is deprecated, will be removed in 4.0.0, use `vector_size` instead.\n",
            "  warnings.warn(\"The parameter `size` is deprecated, will be removed in 4.0.0, use `vector_size` instead.\")\n",
            "100%|██████████| 307/307 [00:00<00:00, 620854.06it/s]\n",
            "100%|██████████| 307/307 [00:00<00:00, 644470.13it/s]\n",
            "245it [00:00, 2020.85it/s]\n",
            "62it [00:00, 2132.77it/s]\n"
          ],
          "name": "stderr"
        },
        {
          "output_type": "stream",
          "text": [
            "Train on 196 samples, validate on 49 samples\n",
            "Epoch 1/5\n",
            " - 0s - loss: 0.4678 - accuracy: 0.8316 - val_loss: 0.7344 - val_accuracy: 0.6735\n",
            "Epoch 2/5\n",
            " - 0s - loss: 0.4727 - accuracy: 0.7704 - val_loss: 0.6975 - val_accuracy: 0.7959\n",
            "Epoch 3/5\n",
            " - 0s - loss: 0.3923 - accuracy: 0.8265 - val_loss: 0.5615 - val_accuracy: 0.7551\n",
            "Epoch 4/5\n",
            " - 0s - loss: 0.3538 - accuracy: 0.8418 - val_loss: 0.6384 - val_accuracy: 0.7551\n",
            "Epoch 5/5\n",
            " - 0s - loss: 0.3903 - accuracy: 0.8367 - val_loss: 0.6138 - val_accuracy: 0.7143\n",
            "score: 0.55\n",
            "acc: 0.7581\n"
          ],
          "name": "stdout"
        },
        {
          "output_type": "display_data",
          "data": {
            "image/png": "[encoded data removed]",
            "text/plain": [
              "<Figure size 432x288 with 1 Axes>"
            ]
          },
          "metadata": {
            "tags": []
          }
        },
        {
          "output_type": "display_data",
          "data": {
            "image/png": "[encoded data removed]",
            "text/plain": [
              "<Figure size 432x288 with 1 Axes>"
            ]
          },
          "metadata": {
            "tags": []
          }
        }
      ]
    },
    {
      "cell_type": "markdown",
      "metadata": {
        "id": "Uaq4u0IZJKq_",
        "colab_type": "text"
      },
      "source": [
        "BOW + DMC "
      ]
    },
    {
      "cell_type": "code",
      "metadata": {
        "id": "EhiUthquKEhh",
        "colab_type": "code",
        "colab": {
          "base_uri": "https://localhost:8080/",
          "height": 933
        },
        "outputId": "517eab69-689f-4d4a-a09c-e7d30def0256"
      },
      "source": [
        "import matplotlib.pyplot as plt \n",
        "from gensim.models import Doc2Vec\n",
        "import multiprocessing\n",
        "cores = multiprocessing.cpu_count()\n",
        "model_dbow = Doc2Vec(dm=0, size=200, negative=5, min_count=2, workers=cores, alpha=0.065, min_alpha=0.065)\n",
        "model_dbow.build_vocab([x for x in tqdm(all_x_w2v)])\n",
        "model_dbow.train(utils.shuffle([x for x in tqdm(all_x_w2v)]), total_examples=len(all_x_w2v), epochs=1)\n",
        "\n",
        "def build_doc_Vector(tokens, size):\n",
        "    vec = np.zeros(size).reshape((1, size))\n",
        "    count = 0.\n",
        "    for word in tokens:\n",
        "        try:\n",
        "            vec += model_dbow[word].reshape((1, size)) * tfidf[word]\n",
        "            count += 1.\n",
        "        except KeyError: \n",
        "            continue\n",
        "    if count != 0:\n",
        "        vec /= count\n",
        "    return vec\n",
        "\n",
        "train_vecs_dbow = np.concatenate([build_doc_Vector(z, 200) for z in tqdm(map(lambda x: x.words, x_train))])\n",
        "train_vecs_dbow = scale(train_vecs_dbow)\n",
        "val_vecs_dbow = np.concatenate([build_doc_Vector(z, 200) for z in tqdm(map(lambda x: x.words, x_validation))])\n",
        "val_vecs_dbow = scale(val_vecs_dbow)\n",
        "\n",
        "model = Sequential()\n",
        "model.add(Dense(256, activation='relu', input_dim=200))\n",
        "model.add(Dense(256, activation='relu'))\n",
        "model.add(Dense(256, activation='relu'))\n",
        "model.add(Dense(1, activation='sigmoid'))\n",
        "model.compile(optimizer='adam',\n",
        "              loss='binary_crossentropy',\n",
        "              metrics=['accuracy'])\n",
        "\n",
        "history=model.fit(train_vecs_dbow, y_train,validation_split=0.2, epochs=5, batch_size=32, verbose=1)\n",
        "score,acc = model.evaluate(val_vecs_dbow, y_validation, batch_size=128, verbose=1)\n",
        "print(\"score: %.2f\" % (score))\n",
        "print(\"acc: %.4f\" % (acc))\n",
        "\n",
        "plt.plot(history.history['accuracy'])\n",
        "plt.plot(history.history['val_accuracy'])\n",
        "plt.title('model accuracy')\n",
        "plt.ylabel('accuracy')\n",
        "plt.xlabel('epoch')\n",
        "plt.legend(['train', 'test'], loc='upper left')\n",
        "plt.show()\n",
        "\n",
        "plt.plot(history.history['loss'])\n",
        "plt.plot(history.history['val_loss'])\n",
        "\n",
        "plt.title('model loss')\n",
        "plt.ylabel('loss')\n",
        "plt.xlabel('epoch')\n",
        "plt.legend(['train','test'], loc='upper left')\n",
        "plt.show()\n"
      ],
      "execution_count": null,
      "outputs": [
        {
          "output_type": "stream",
          "text": [
            "/usr/local/lib/python3.6/dist-packages/gensim/models/doc2vec.py:570: UserWarning: The parameter `size` is deprecated, will be removed in 4.0.0, use `vector_size` instead.\n",
            "  warnings.warn(\"The parameter `size` is deprecated, will be removed in 4.0.0, use `vector_size` instead.\")\n",
            "100%|██████████| 307/307 [00:00<00:00, 116424.17it/s]\n",
            "100%|██████████| 307/307 [00:00<00:00, 106735.02it/s]\n",
            "245it [00:00, 2085.47it/s]\n",
            "62it [00:00, 2036.90it/s]\n"
          ],
          "name": "stderr"
        },
        {
          "output_type": "stream",
          "text": [
            "Train on 196 samples, validate on 49 samples\n",
            "Epoch 1/5\n",
            "196/196 [==============================] - 0s 883us/step - loss: 0.4263 - accuracy: 0.8316 - val_loss: 0.5847 - val_accuracy: 0.7959\n",
            "Epoch 2/5\n",
            "196/196 [==============================] - 0s 143us/step - loss: 0.2171 - accuracy: 0.8776 - val_loss: 0.4384 - val_accuracy: 0.8163\n",
            "Epoch 3/5\n",
            "196/196 [==============================] - 0s 144us/step - loss: 0.0880 - accuracy: 1.0000 - val_loss: 0.5214 - val_accuracy: 0.8163\n",
            "Epoch 4/5\n",
            "196/196 [==============================] - 0s 142us/step - loss: 0.0250 - accuracy: 1.0000 - val_loss: 0.4971 - val_accuracy: 0.8571\n",
            "Epoch 5/5\n",
            "196/196 [==============================] - 0s 144us/step - loss: 0.0071 - accuracy: 1.0000 - val_loss: 0.5408 - val_accuracy: 0.8776\n",
            "62/62 [==============================] - 0s 59us/step\n",
            "score: 0.18\n",
            "acc: 0.9032\n"
          ],
          "name": "stdout"
        },
        {
          "output_type": "display_data",
          "data": {
            "image/png": "[encoded data removed]",
            "text/plain": [
              "<Figure size 432x288 with 1 Axes>"
            ]
          },
          "metadata": {
            "tags": []
          }
        },
        {
          "output_type": "display_data",
          "data": {
            "image/png": "[encoded data removed]",
            "text/plain": [
              "<Figure size 432x288 with 1 Axes>"
            ]
          },
          "metadata": {
            "tags": []
          }
        }
      ]
    },
    {
      "cell_type": "markdown",
      "metadata": {
        "id": "2H9_9khCQ7wi",
        "colab_type": "text"
      },
      "source": [
        "graph"
      ]
    },
    {
      "cell_type": "code",
      "metadata": {
        "id": "s2B9jIzVQ6lz",
        "colab_type": "code",
        "colab": {
          "base_uri": "https://localhost:8080/",
          "height": 71
        },
        "outputId": "72032e0c-d6df-49bf-9315-089db6b5d451"
      },
      "source": [
        "import matplotlib.pyplot as plt \n",
        "print(history.history.keys())\n",
        "\"\"\"plt.title('model accuracy')\n",
        "plt.ylabel('accuracy')\n",
        "plt.xlabel('epoch')\n",
        "plt.legend(['train','test'], loc='upper left')\n",
        "plt.show()\n",
        "\n",
        "plt.plot(history.history['loss'])\n",
        "plt.plot(history.history['val_loss'])\n",
        "\n",
        "plt.title('model loss')\n",
        "plt.ylabel('loss')\n",
        "plt.xlabel('epoch')\n",
        "plt.legend(['train','test'], loc='upper left')\n",
        "plt.show()\n",
        "/** code by yogeshwaran **/\"\"\""
      ],
      "execution_count": null,
      "outputs": [
        {
          "output_type": "stream",
          "text": [
            "dict_keys(['loss', 'accuracy'])\n"
          ],
          "name": "stdout"
        },
        {
          "output_type": "execute_result",
          "data": {
            "text/plain": [
              "\"plt.title('model accuracy')\\nplt.ylabel('accuracy')\\nplt.xlabel('epoch')\\nplt.legend(['train','test'], loc='upper left')\\nplt.show()\\n\\nplt.plot(history.history['loss'])\\nplt.plot(history.history['val_loss'])\\n\\nplt.title('model loss')\\nplt.ylabel('loss')\\nplt.xlabel('epoch')\\nplt.legend(['train','test'], loc='upper left')\\nplt.show()\""
            ]
          },
          "metadata": {
            "tags": []
          },
          "execution_count": 23
        }
      ]
    }
  ]
}